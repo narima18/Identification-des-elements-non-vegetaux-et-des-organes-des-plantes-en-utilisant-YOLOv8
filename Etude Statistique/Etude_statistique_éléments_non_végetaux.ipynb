{
  "nbformat": 4,
  "nbformat_minor": 0,
  "metadata": {
    "colab": {
      "provenance": []
    },
    "kernelspec": {
      "name": "python3",
      "display_name": "Python 3"
    },
    "language_info": {
      "name": "python"
    }
  },
  "cells": [
    {
      "cell_type": "markdown",
      "source": [
        "##Etude statistique"
      ],
      "metadata": {
        "id": "LqUfB1YloFtr"
      }
    },
    {
      "cell_type": "markdown",
      "source": [
        "Nombre d'images"
      ],
      "metadata": {
        "id": "4aq8T1TUoWUA"
      }
    },
    {
      "cell_type": "code",
      "source": [
        "import os\n",
        "from os.path import join, isfile\n",
        "\n",
        "def nombre_images(folder_path):\n",
        "    # Liste des fichiers dans le dossier\n",
        "    files = [f for f in os.listdir(folder_path) if isfile(join(folder_path, f))]\n",
        "\n",
        "    # Compter le nombre d'images\n",
        "    image_count = sum(1 for file in files if file.lower().endswith(('.png', '.jpg', '.jpeg', '.gif', '.bmp', '.tif', '.tiff')))\n",
        "\n",
        "    return image_count\n",
        "\n",
        "if __name__ == \"__main__\":\n",
        "    # Spécifier le chemin du dossier contenant les images\n",
        "    folder_path = \"/content/drive/MyDrive/non_végétaux/train/images\"\n",
        "    folder_path_ = \"/content/drive/MyDrive/non_végétaux/valid/images\"\n",
        "\n",
        "    # Appeler la fonction pour compter le nombre d'images dans le dossier\n",
        "    count = nombre_images(folder_path)+ nombre_images(folder_path_)\n",
        "\n",
        "    print(f\"Nombre d'images est: {count}\")\n"
      ],
      "metadata": {
        "colab": {
          "base_uri": "https://localhost:8080/"
        },
        "id": "DHD-kdxIoZ5U",
        "outputId": "3cd7c05f-70c6-4bc5-cd1d-cc864f00d59a"
      },
      "execution_count": 1,
      "outputs": [
        {
          "output_type": "stream",
          "name": "stdout",
          "text": [
            "Nombre d'images est: 899\n"
          ]
        }
      ]
    },
    {
      "cell_type": "markdown",
      "source": [
        "Nombre d'annotations"
      ],
      "metadata": {
        "id": "SY5P4nZzY83f"
      }
    },
    {
      "cell_type": "code",
      "source": [
        "import os\n",
        "from os.path import join, isfile\n",
        "\n",
        "def nombre_fichiers(folder_path):\n",
        "    # Liste des fichiers dans le dossier\n",
        "    files = [f for f in os.listdir(folder_path) if isfile(join(folder_path, f))]\n",
        "\n",
        "    # Compter le nombre de fichiers\n",
        "    file_count = sum(1 for file in files if file.lower().endswith(('.txt')))\n",
        "\n",
        "    return file_count\n",
        "\n",
        "if __name__ == \"__main__\":\n",
        "    # Spécifier le chemin du dossier contenant les fichiers\n",
        "    folder_path = \"/content/drive/MyDrive/non_végétaux/train/labels\"\n",
        "    folder_path_ = \"/content/drive/MyDrive/non_végétaux/valid/labels\"\n",
        "\n",
        "    # Appeler la fonction pour compter le nombre de fichiers dans le dossier\n",
        "    count = nombre_fichiers(folder_path)+nombre_fichiers(folder_path_)\n",
        "\n",
        "    print(f\"Nombre de fichiers d'annotation: {count}\")\n"
      ],
      "metadata": {
        "colab": {
          "base_uri": "https://localhost:8080/"
        },
        "outputId": "65d95568-86c3-42fa-c503-7daf89828803",
        "id": "7LkkHxO3Y83g"
      },
      "execution_count": 2,
      "outputs": [
        {
          "output_type": "stream",
          "name": "stdout",
          "text": [
            "Nombre de fichiers d'annotation: 897\n"
          ]
        }
      ]
    },
    {
      "cell_type": "markdown",
      "source": [
        "Nombre d'occurences des classes des éléments non végétaux"
      ],
      "metadata": {
        "id": "tXeNBnK3dKpK"
      }
    },
    {
      "cell_type": "code",
      "source": [
        "import os\n",
        "import pandas as pd\n",
        "\n",
        "# Chemin vers le dossier contenant les fichiers d'annotations YOLO\n",
        "annotations_folder = \"/content/drive/MyDrive/non_végétaux/train/labels\"\n",
        "annotations_folder_ = \"/content/drive/MyDrive/non_végétaux/valid/labels\"\n",
        "\n",
        "# Initialiser un dictionnaire pour stocker les statistiques par classe\n",
        "class_stats = {}\n",
        "\n",
        "# Parcourir tous les fichiers dans le dossier d'annotations\n",
        "def occurence_classes(annotations_folder):\n",
        "  for filename in os.listdir(annotations_folder):\n",
        "      if filename.endswith(\".txt\"):\n",
        "          file_path = os.path.join(annotations_folder, filename)\n",
        "\n",
        "          # Ouvrir le fichier d'annotations\n",
        "          with open(file_path, \"r\") as file:\n",
        "              lines = file.readlines()\n",
        "\n",
        "          # Parcourir chaque ligne du fichier d'annotations\n",
        "          for line in lines:\n",
        "              # Diviser la ligne en mots\n",
        "              parts = line.split()\n",
        "\n",
        "              # La première partie est la classe\n",
        "              class_name = parts[0]\n",
        "\n",
        "              # Vérifier si la classe est déjà dans le dictionnaire, sinon l'initialiser à 1\n",
        "              if class_name not in class_stats:\n",
        "                  class_stats[class_name] = 1\n",
        "              else:\n",
        "                  # Si la classe est déjà présente, incrémenter le compteur\n",
        "                  class_stats[class_name] += 1\n",
        "\n",
        "# Convertir le dictionnaire en un DataFrame pandas\n",
        "  df = pd.DataFrame(list(class_stats.items()), columns=['Classe', 'Occurrences'])\n",
        "\n",
        "  return df.style.set_properties(**{\"border\": \"2px solid blue\", \"color\": \"black\"})\n",
        "print('statistique Train set')\n",
        "occurence_classes(annotations_folder)"
      ],
      "metadata": {
        "colab": {
          "base_uri": "https://localhost:8080/",
          "height": 397
        },
        "id": "Wi5yFBDZ0IgT",
        "outputId": "af98552d-6d07-405f-f2b6-5c5499961623"
      },
      "execution_count": 3,
      "outputs": [
        {
          "output_type": "stream",
          "name": "stdout",
          "text": [
            "statistique Train set\n"
          ]
        },
        {
          "output_type": "execute_result",
          "data": {
            "text/plain": [
              "<pandas.io.formats.style.Styler at 0x7c28580fb9a0>"
            ],
            "text/html": [
              "<style type=\"text/css\">\n",
              "#T_ca628_row0_col0, #T_ca628_row0_col1, #T_ca628_row1_col0, #T_ca628_row1_col1, #T_ca628_row2_col0, #T_ca628_row2_col1, #T_ca628_row3_col0, #T_ca628_row3_col1, #T_ca628_row4_col0, #T_ca628_row4_col1, #T_ca628_row5_col0, #T_ca628_row5_col1, #T_ca628_row6_col0, #T_ca628_row6_col1, #T_ca628_row7_col0, #T_ca628_row7_col1, #T_ca628_row8_col0, #T_ca628_row8_col1, #T_ca628_row9_col0, #T_ca628_row9_col1 {\n",
              "  border: 2px solid blue;\n",
              "  color: black;\n",
              "}\n",
              "</style>\n",
              "<table id=\"T_ca628\" class=\"dataframe\">\n",
              "  <thead>\n",
              "    <tr>\n",
              "      <th class=\"blank level0\" >&nbsp;</th>\n",
              "      <th id=\"T_ca628_level0_col0\" class=\"col_heading level0 col0\" >Classe</th>\n",
              "      <th id=\"T_ca628_level0_col1\" class=\"col_heading level0 col1\" >Occurrences</th>\n",
              "    </tr>\n",
              "  </thead>\n",
              "  <tbody>\n",
              "    <tr>\n",
              "      <th id=\"T_ca628_level0_row0\" class=\"row_heading level0 row0\" >0</th>\n",
              "      <td id=\"T_ca628_row0_col0\" class=\"data row0 col0\" >7</td>\n",
              "      <td id=\"T_ca628_row0_col1\" class=\"data row0 col1\" >875</td>\n",
              "    </tr>\n",
              "    <tr>\n",
              "      <th id=\"T_ca628_level0_row1\" class=\"row_heading level0 row1\" >1</th>\n",
              "      <td id=\"T_ca628_row1_col0\" class=\"data row1 col0\" >5</td>\n",
              "      <td id=\"T_ca628_row1_col1\" class=\"data row1 col1\" >762</td>\n",
              "    </tr>\n",
              "    <tr>\n",
              "      <th id=\"T_ca628_level0_row2\" class=\"row_heading level0 row2\" >2</th>\n",
              "      <td id=\"T_ca628_row2_col0\" class=\"data row2 col0\" >3</td>\n",
              "      <td id=\"T_ca628_row2_col1\" class=\"data row2 col1\" >1048</td>\n",
              "    </tr>\n",
              "    <tr>\n",
              "      <th id=\"T_ca628_level0_row3\" class=\"row_heading level0 row3\" >3</th>\n",
              "      <td id=\"T_ca628_row3_col0\" class=\"data row3 col0\" >0</td>\n",
              "      <td id=\"T_ca628_row3_col1\" class=\"data row3 col1\" >732</td>\n",
              "    </tr>\n",
              "    <tr>\n",
              "      <th id=\"T_ca628_level0_row4\" class=\"row_heading level0 row4\" >4</th>\n",
              "      <td id=\"T_ca628_row4_col0\" class=\"data row4 col0\" >8</td>\n",
              "      <td id=\"T_ca628_row4_col1\" class=\"data row4 col1\" >123</td>\n",
              "    </tr>\n",
              "    <tr>\n",
              "      <th id=\"T_ca628_level0_row5\" class=\"row_heading level0 row5\" >5</th>\n",
              "      <td id=\"T_ca628_row5_col0\" class=\"data row5 col0\" >4</td>\n",
              "      <td id=\"T_ca628_row5_col1\" class=\"data row5 col1\" >227</td>\n",
              "    </tr>\n",
              "    <tr>\n",
              "      <th id=\"T_ca628_level0_row6\" class=\"row_heading level0 row6\" >6</th>\n",
              "      <td id=\"T_ca628_row6_col0\" class=\"data row6 col0\" >9</td>\n",
              "      <td id=\"T_ca628_row6_col1\" class=\"data row6 col1\" >86</td>\n",
              "    </tr>\n",
              "    <tr>\n",
              "      <th id=\"T_ca628_level0_row7\" class=\"row_heading level0 row7\" >7</th>\n",
              "      <td id=\"T_ca628_row7_col0\" class=\"data row7 col0\" >1</td>\n",
              "      <td id=\"T_ca628_row7_col1\" class=\"data row7 col1\" >66</td>\n",
              "    </tr>\n",
              "    <tr>\n",
              "      <th id=\"T_ca628_level0_row8\" class=\"row_heading level0 row8\" >8</th>\n",
              "      <td id=\"T_ca628_row8_col0\" class=\"data row8 col0\" >6</td>\n",
              "      <td id=\"T_ca628_row8_col1\" class=\"data row8 col1\" >307</td>\n",
              "    </tr>\n",
              "    <tr>\n",
              "      <th id=\"T_ca628_level0_row9\" class=\"row_heading level0 row9\" >9</th>\n",
              "      <td id=\"T_ca628_row9_col0\" class=\"data row9 col0\" >2</td>\n",
              "      <td id=\"T_ca628_row9_col1\" class=\"data row9 col1\" >3</td>\n",
              "    </tr>\n",
              "  </tbody>\n",
              "</table>\n"
            ]
          },
          "metadata": {},
          "execution_count": 3
        }
      ]
    },
    {
      "cell_type": "code",
      "source": [
        "print('statistique valid set')\n",
        "occurence_classes(annotations_folder_)"
      ],
      "metadata": {
        "colab": {
          "base_uri": "https://localhost:8080/",
          "height": 397
        },
        "id": "2NRlyBBGNSo-",
        "outputId": "d5987a95-74a0-4064-ce92-b89526718143"
      },
      "execution_count": 4,
      "outputs": [
        {
          "output_type": "stream",
          "name": "stdout",
          "text": [
            "statistique valid set\n"
          ]
        },
        {
          "output_type": "execute_result",
          "data": {
            "text/plain": [
              "<pandas.io.formats.style.Styler at 0x7c28580fbd30>"
            ],
            "text/html": [
              "<style type=\"text/css\">\n",
              "#T_05c22_row0_col0, #T_05c22_row0_col1, #T_05c22_row1_col0, #T_05c22_row1_col1, #T_05c22_row2_col0, #T_05c22_row2_col1, #T_05c22_row3_col0, #T_05c22_row3_col1, #T_05c22_row4_col0, #T_05c22_row4_col1, #T_05c22_row5_col0, #T_05c22_row5_col1, #T_05c22_row6_col0, #T_05c22_row6_col1, #T_05c22_row7_col0, #T_05c22_row7_col1, #T_05c22_row8_col0, #T_05c22_row8_col1, #T_05c22_row9_col0, #T_05c22_row9_col1 {\n",
              "  border: 2px solid blue;\n",
              "  color: black;\n",
              "}\n",
              "</style>\n",
              "<table id=\"T_05c22\" class=\"dataframe\">\n",
              "  <thead>\n",
              "    <tr>\n",
              "      <th class=\"blank level0\" >&nbsp;</th>\n",
              "      <th id=\"T_05c22_level0_col0\" class=\"col_heading level0 col0\" >Classe</th>\n",
              "      <th id=\"T_05c22_level0_col1\" class=\"col_heading level0 col1\" >Occurrences</th>\n",
              "    </tr>\n",
              "  </thead>\n",
              "  <tbody>\n",
              "    <tr>\n",
              "      <th id=\"T_05c22_level0_row0\" class=\"row_heading level0 row0\" >0</th>\n",
              "      <td id=\"T_05c22_row0_col0\" class=\"data row0 col0\" >7</td>\n",
              "      <td id=\"T_05c22_row0_col1\" class=\"data row0 col1\" >978</td>\n",
              "    </tr>\n",
              "    <tr>\n",
              "      <th id=\"T_05c22_level0_row1\" class=\"row_heading level0 row1\" >1</th>\n",
              "      <td id=\"T_05c22_row1_col0\" class=\"data row1 col0\" >5</td>\n",
              "      <td id=\"T_05c22_row1_col1\" class=\"data row1 col1\" >848</td>\n",
              "    </tr>\n",
              "    <tr>\n",
              "      <th id=\"T_05c22_level0_row2\" class=\"row_heading level0 row2\" >2</th>\n",
              "      <td id=\"T_05c22_row2_col0\" class=\"data row2 col0\" >3</td>\n",
              "      <td id=\"T_05c22_row2_col1\" class=\"data row2 col1\" >1164</td>\n",
              "    </tr>\n",
              "    <tr>\n",
              "      <th id=\"T_05c22_level0_row3\" class=\"row_heading level0 row3\" >3</th>\n",
              "      <td id=\"T_05c22_row3_col0\" class=\"data row3 col0\" >0</td>\n",
              "      <td id=\"T_05c22_row3_col1\" class=\"data row3 col1\" >820</td>\n",
              "    </tr>\n",
              "    <tr>\n",
              "      <th id=\"T_05c22_level0_row4\" class=\"row_heading level0 row4\" >4</th>\n",
              "      <td id=\"T_05c22_row4_col0\" class=\"data row4 col0\" >8</td>\n",
              "      <td id=\"T_05c22_row4_col1\" class=\"data row4 col1\" >127</td>\n",
              "    </tr>\n",
              "    <tr>\n",
              "      <th id=\"T_05c22_level0_row5\" class=\"row_heading level0 row5\" >5</th>\n",
              "      <td id=\"T_05c22_row5_col0\" class=\"data row5 col0\" >4</td>\n",
              "      <td id=\"T_05c22_row5_col1\" class=\"data row5 col1\" >251</td>\n",
              "    </tr>\n",
              "    <tr>\n",
              "      <th id=\"T_05c22_level0_row6\" class=\"row_heading level0 row6\" >6</th>\n",
              "      <td id=\"T_05c22_row6_col0\" class=\"data row6 col0\" >9</td>\n",
              "      <td id=\"T_05c22_row6_col1\" class=\"data row6 col1\" >96</td>\n",
              "    </tr>\n",
              "    <tr>\n",
              "      <th id=\"T_05c22_level0_row7\" class=\"row_heading level0 row7\" >7</th>\n",
              "      <td id=\"T_05c22_row7_col0\" class=\"data row7 col0\" >1</td>\n",
              "      <td id=\"T_05c22_row7_col1\" class=\"data row7 col1\" >66</td>\n",
              "    </tr>\n",
              "    <tr>\n",
              "      <th id=\"T_05c22_level0_row8\" class=\"row_heading level0 row8\" >8</th>\n",
              "      <td id=\"T_05c22_row8_col0\" class=\"data row8 col0\" >6</td>\n",
              "      <td id=\"T_05c22_row8_col1\" class=\"data row8 col1\" >361</td>\n",
              "    </tr>\n",
              "    <tr>\n",
              "      <th id=\"T_05c22_level0_row9\" class=\"row_heading level0 row9\" >9</th>\n",
              "      <td id=\"T_05c22_row9_col0\" class=\"data row9 col0\" >2</td>\n",
              "      <td id=\"T_05c22_row9_col1\" class=\"data row9 col1\" >3</td>\n",
              "    </tr>\n",
              "  </tbody>\n",
              "</table>\n"
            ]
          },
          "metadata": {},
          "execution_count": 4
        }
      ]
    },
    {
      "cell_type": "markdown",
      "source": [
        "Statistiques descriptives sur la longueur et la largeur des images"
      ],
      "metadata": {
        "id": "9fRsXiElk-m3"
      }
    },
    {
      "cell_type": "code",
      "source": [
        "from PIL import Image\n",
        "import os\n",
        "import pandas as pd\n",
        "\n",
        "# Chemin vers le dossier contenant les images\n",
        "images_folder = \"/content/drive/MyDrive/non_végétaux/train/images\"\n",
        "images_folder_ = \"/content/drive/MyDrive/non_végétaux/valid/images\"\n",
        "def statistiques(images_folder):\n",
        "  # Initialiser une liste pour stocker les données sur la longueur et la largeur\n",
        "  data = []\n",
        "\n",
        "  # Parcourir tous les fichiers dans le dossier d'images\n",
        "  for filename in os.listdir(images_folder):\n",
        "      if filename.endswith((\".jpg\", \".jpeg\", \".png\", \".bmp\")):\n",
        "          image_path = os.path.join(images_folder, filename)\n",
        "\n",
        "          # Ouvrir l'image et obtenir ses dimensions\n",
        "          with Image.open(image_path) as img:\n",
        "              width, height = img.size\n",
        "\n",
        "          # Ajouter les données à la liste\n",
        "          data.append({\n",
        "              'Image': filename,\n",
        "              'Longueur': width,\n",
        "              'Largeur': height\n",
        "          })\n",
        "\n",
        "  # Convertir la liste en un DataFrame pandas\n",
        "  df = pd.DataFrame(data)\n",
        "\n",
        "  # Afficher des statistiques descriptives\n",
        "  print(df.describe())\n",
        "\n",
        "  # Afficher une moyenne générale\n",
        "  print(\"\\nMoyenne générale :\")\n",
        "  print(df[['Longueur', 'Largeur']].mean())\n",
        "print(\"Statistiques descriptives sur la longueur et la largeur des images du training set :\")\n",
        "statistiques(images_folder)\n",
        "print(\"Statistiques descriptives sur la longueur et la largeur des images du test set :\")\n",
        "statistiques(images_folder_)"
      ],
      "metadata": {
        "colab": {
          "base_uri": "https://localhost:8080/"
        },
        "id": "36PuAbh12TZ_",
        "outputId": "48e7085f-16a8-4e55-ce9c-8caa62729a47"
      },
      "execution_count": 6,
      "outputs": [
        {
          "output_type": "stream",
          "name": "stdout",
          "text": [
            "Statistiques descriptives sur la longueur et la largeur des images du training set :\n",
            "       Longueur  Largeur\n",
            "count     809.0    809.0\n",
            "mean      640.0    640.0\n",
            "std         0.0      0.0\n",
            "min       640.0    640.0\n",
            "25%       640.0    640.0\n",
            "50%       640.0    640.0\n",
            "75%       640.0    640.0\n",
            "max       640.0    640.0\n",
            "\n",
            "Moyenne générale :\n",
            "Longueur    640.0\n",
            "Largeur     640.0\n",
            "dtype: float64\n",
            "Statistiques descriptives sur la longueur et la largeur des images du test set :\n",
            "       Longueur  Largeur\n",
            "count      90.0     90.0\n",
            "mean      640.0    640.0\n",
            "std         0.0      0.0\n",
            "min       640.0    640.0\n",
            "25%       640.0    640.0\n",
            "50%       640.0    640.0\n",
            "75%       640.0    640.0\n",
            "max       640.0    640.0\n",
            "\n",
            "Moyenne générale :\n",
            "Longueur    640.0\n",
            "Largeur     640.0\n",
            "dtype: float64\n"
          ]
        }
      ]
    },
    {
      "cell_type": "markdown",
      "source": [
        "Statistiques descriptives sur la longueur et la largeur des classes"
      ],
      "metadata": {
        "id": "uEuWJ-vZkv-y"
      }
    },
    {
      "cell_type": "code",
      "source": [
        "import os\n",
        "import pandas as pd\n",
        "\n",
        "# Chemin vers le dossier contenant les fichiers d'annotations YOLO\n",
        "annotations_folder = \"/content/drive/MyDrive/non_végétaux/train/labels\"\n",
        "annotations_folder_ = \"/content/drive/MyDrive/non_végétaux/valid/labels\"\n",
        "def statistiques_classes(annotations_folder):\n",
        "  # Initialiser une liste pour stocker les données sur la longueur et la largeur\n",
        "  data = []\n",
        "\n",
        "  # Parcourir tous les fichiers dans le dossier d'annotations\n",
        "  for filename in os.listdir(annotations_folder):\n",
        "      if filename.endswith(\".txt\"):\n",
        "          file_path = os.path.join(annotations_folder, filename)\n",
        "\n",
        "          # Ouvrir le fichier d'annotations\n",
        "          with open(file_path, \"r\") as file:\n",
        "              lines = file.readlines()\n",
        "\n",
        "          # Parcourir chaque ligne du fichier d'annotations\n",
        "          for line in lines:\n",
        "              # Diviser la ligne en mots\n",
        "              parts = line.split()\n",
        "\n",
        "              # La première partie est la classe\n",
        "              class_name = parts[0]\n",
        "\n",
        "              # Les coordonnées suivantes sont x, y, largeur, hauteur\n",
        "              x, y, width, height = map(float, parts[1:5])\n",
        "\n",
        "              # Ajouter les données à la liste\n",
        "              data.append({\n",
        "                  'Classe': class_name,\n",
        "                  'Longueur': width,\n",
        "                  'Largeur': height\n",
        "              })\n",
        "\n",
        "  # Convertir la liste en un DataFrame pandas\n",
        "  df = pd.DataFrame(data)\n",
        "  # Afficher des statistiques descriptives\n",
        "  print(\"Statistiques descriptives sur la longueur et la largeur des classes :\")\n",
        "  print(df.groupby('Classe').describe())\n",
        "\n",
        "  # Afficher une moyenne générale\n",
        "  print(\"\\nMoyenne générale :\")\n",
        "  print(df[['Longueur', 'Largeur']].mean())\n",
        "statistiques_classes(annotations_folder)\n",
        "statistiques_classes(annotations_folder_)"
      ],
      "metadata": {
        "colab": {
          "base_uri": "https://localhost:8080/"
        },
        "id": "tjNtVIcS2Ptl",
        "outputId": "7ed58167-001d-4ca2-eda3-0e8b75fd7308"
      },
      "execution_count": 7,
      "outputs": [
        {
          "output_type": "stream",
          "name": "stdout",
          "text": [
            "Statistiques descriptives sur la longueur et la largeur des classes :\n",
            "       Longueur                                                              \\\n",
            "          count      mean       std       min       25%       50%       75%   \n",
            "Classe                                                                        \n",
            "0         732.0  0.205866  0.124561  0.017188  0.078125  0.275000  0.321094   \n",
            "1          66.0  0.045620  0.031214  0.015625  0.023438  0.038281  0.053711   \n",
            "2           3.0  0.365625  0.008119  0.356250  0.363281  0.370312  0.370312   \n",
            "3        1048.0  0.323599  0.127532  0.053125  0.209375  0.328906  0.414062   \n",
            "4         227.0  0.217504  0.167572  0.015625  0.087500  0.146875  0.322266   \n",
            "5         762.0  0.230434  0.175892  0.010937  0.068750  0.146094  0.380273   \n",
            "6         307.0  0.149980  0.093195  0.025000  0.078125  0.109375  0.229687   \n",
            "7         875.0  0.207660  0.065294  0.054688  0.196484  0.207813  0.219141   \n",
            "8         123.0  0.132438  0.046081  0.059375  0.090625  0.132812  0.174609   \n",
            "9          86.0  0.264044  0.141095  0.060937  0.150000  0.272266  0.408984   \n",
            "\n",
            "                 Largeur                                                    \\\n",
            "             max   count      mean       std       min       25%       50%   \n",
            "Classe                                                                       \n",
            "0       0.496875   732.0  0.190603  0.124264  0.021875  0.075000  0.092969   \n",
            "1       0.204687    66.0  0.042235  0.036209  0.014844  0.020703  0.033594   \n",
            "2       0.370312     3.0  0.176562  0.006811  0.171875  0.172656  0.173437   \n",
            "3       0.992969  1048.0  0.316384  0.134225  0.014063  0.200000  0.318750   \n",
            "4       0.714063   227.0  0.197670  0.171690  0.023438  0.076563  0.120313   \n",
            "5       0.573438   762.0  0.225079  0.175155  0.015625  0.056250  0.250391   \n",
            "6       0.515625   307.0  0.153100  0.104949  0.042188  0.075781  0.100000   \n",
            "7       0.675000   875.0  0.203040  0.064125  0.028125  0.189062  0.203125   \n",
            "8       0.228125   123.0  0.128335  0.049184  0.056250  0.085156  0.123438   \n",
            "9       0.484375    86.0  0.242560  0.145777  0.056250  0.125195  0.174609   \n",
            "\n",
            "                            \n",
            "             75%       max  \n",
            "Classe                      \n",
            "0       0.320703  0.448437  \n",
            "1       0.050000  0.209375  \n",
            "2       0.178906  0.184375  \n",
            "3       0.414453  1.000000  \n",
            "4       0.321875  0.709375  \n",
            "5       0.337500  0.553125  \n",
            "6       0.234375  0.493750  \n",
            "7       0.219922  0.612500  \n",
            "8       0.174219  0.228125  \n",
            "9       0.396484  0.503125  \n",
            "\n",
            "Moyenne générale :\n",
            "Longueur    0.233067\n",
            "Largeur     0.225135\n",
            "dtype: float64\n",
            "Statistiques descriptives sur la longueur et la largeur des classes :\n",
            "       Longueur                                                              \\\n",
            "          count      mean       std       min       25%       50%       75%   \n",
            "Classe                                                                        \n",
            "0          88.0  0.321298  0.039401  0.071094  0.305273  0.323828  0.336719   \n",
            "3         116.0  0.433742  0.069532  0.213281  0.391211  0.425000  0.472070   \n",
            "4          24.0  0.348014  0.208521  0.113281  0.203516  0.258203  0.492969   \n",
            "5          86.0  0.262818  0.196212  0.064062  0.075781  0.089453  0.469336   \n",
            "6          54.0  0.224291  0.097598  0.086719  0.119922  0.233594  0.330469   \n",
            "7         103.0  0.205431  0.074131  0.095312  0.108594  0.206250  0.289844   \n",
            "8           4.0  0.165234  0.046990  0.107813  0.141797  0.166797  0.190234   \n",
            "9          10.0  0.405234  0.062401  0.332813  0.361523  0.401953  0.412891   \n",
            "\n",
            "                 Largeur                                                    \\\n",
            "             max   count      mean       std       min       25%       50%   \n",
            "Classe                                                                       \n",
            "0       0.475781    88.0  0.081818  0.028008  0.042969  0.071094  0.079687   \n",
            "3       0.578125   116.0  0.245548  0.126185  0.052344  0.187500  0.205859   \n",
            "4       0.889062    24.0  0.118913  0.130658  0.032813  0.051758  0.081641   \n",
            "5       0.480469    86.0  0.192533  0.151955  0.043750  0.053125  0.253516   \n",
            "6       0.379688    54.0  0.083767  0.019466  0.035156  0.071484  0.078125   \n",
            "7       0.328125   103.0  0.184739  0.048076  0.066406  0.147656  0.196094   \n",
            "8       0.219531     4.0  0.099414  0.013125  0.081250  0.094141  0.103125   \n",
            "9       0.525000    10.0  0.123594  0.050980  0.065625  0.073438  0.130469   \n",
            "\n",
            "                            \n",
            "             75%       max  \n",
            "Classe                      \n",
            "0       0.084375  0.312500  \n",
            "3       0.308594  1.000000  \n",
            "4       0.122461  0.659375  \n",
            "5       0.313867  0.953125  \n",
            "6       0.100781  0.135937  \n",
            "7       0.200000  0.441406  \n",
            "8       0.108398  0.110156  \n",
            "9       0.161719  0.201563  \n",
            "\n",
            "Moyenne générale :\n",
            "Longueur    0.304180\n",
            "Largeur     0.165527\n",
            "dtype: float64\n"
          ]
        }
      ]
    },
    {
      "cell_type": "markdown",
      "source": [
        "Nombre de bounding boxes annotées pour chaque organe dans les deux ensemble Train et Test"
      ],
      "metadata": {
        "id": "s_IHxTGX4H6H"
      }
    },
    {
      "cell_type": "code",
      "source": [
        "import os\n",
        "import cv2\n",
        "import numpy as np\n",
        "import matplotlib.pyplot as plt\n",
        "\n",
        "def load_annotations(annotation_path):\n",
        "    with open(annotation_path, 'r') as file:\n",
        "        annotations = file.readlines()\n",
        "    return annotations\n",
        "\n",
        "def load_images(images_path):\n",
        "    images_files = [f for f in os.listdir(images_path) if f.endswith((\".jpg\", \".png\"))]\n",
        "    images = [cv2.imread(os.path.join(images_path, img)) for img in images_files]\n",
        "    return images\n",
        "\n",
        "def extract_class_from_annotation(annotation_line):\n",
        "    class_id = annotation_line.split()[0]\n",
        "    return class_id\n",
        "\n",
        "# Chemins vers les dossiers\n",
        "train_annotations_path = \"/content/drive/MyDrive/non_végétaux/train/labels\"\n",
        "train_images_path = \"/content/drive/MyDrive/non_végétaux/train/images\"\n",
        "\n",
        "test_annotations_path = \"/content/drive/MyDrive/non_végétaux/valid/labels\"\n",
        "test_images_path = \"/content/drive/MyDrive/non_végétaux/valid/images\"\n",
        "# Charger les annotations et les images d'entraînement\n",
        "train_annotations_files = [os.path.join(train_annotations_path, f) for f in os.listdir(train_annotations_path) if f.endswith(\".txt\")]\n",
        "train_images = load_images(train_images_path)\n",
        "\n",
        "# Charger les annotations et les images de test\n",
        "test_annotations_files = [os.path.join(test_annotations_path, f) for f in os.listdir(test_annotations_path) if f.endswith(\".txt\")]\n",
        "test_images = load_images(test_images_path)\n",
        "\n",
        "# Statistiques de base pour les ensembles d'entraînement\n",
        "num_train_images = len(train_images)\n",
        "num_train_annotations = sum([len(load_annotations(f)) for f in train_annotations_files])\n",
        "average_annotations_per_train_image = num_train_annotations / num_train_images\n",
        "\n",
        "print(f\"Nombre total d'images d'entraînement : {num_train_images}\")\n",
        "print(f\"Nombre total d'annotations d'entraînement : {num_train_annotations}\")\n",
        "print(f\"Moyenne d'annotations par image d'entraînement : {average_annotations_per_train_image}\")\n",
        "\n",
        "# Statistiques de base pour les ensembles de test\n",
        "num_test_images = len(test_images)\n",
        "num_test_annotations = sum([len(load_annotations(f)) for f in test_annotations_files])\n",
        "average_annotations_per_test_image = num_test_annotations / num_test_images\n",
        "\n",
        "print(f\"Nombre total d'images de test : {num_test_images}\")\n",
        "print(f\"Nombre total d'annotations de test : {num_test_annotations}\")\n",
        "print(f\"Moyenne d'annotations par image de test : {average_annotations_per_test_image}\")\n",
        "\n",
        "all_train_classes = []\n",
        "for annotation_file in train_annotations_files:\n",
        "    annotations = load_annotations(annotation_file)\n",
        "    classes = [extract_class_from_annotation(line) for line in annotations]\n",
        "    all_train_classes.extend(classes)\n",
        "\n",
        "unique_train_classes, train_class_counts = np.unique(all_train_classes, return_counts=True)\n",
        "\n",
        "# Visualisation des classes pour les ensembles de test\n",
        "all_test_classes = []\n",
        "for annotation_file in test_annotations_files:\n",
        "    annotations = load_annotations(annotation_file)\n",
        "    classes = [extract_class_from_annotation(line) for line in annotations]\n",
        "    all_test_classes.extend(classes)\n",
        "\n",
        "unique_test_classes, test_class_counts = np.unique(all_test_classes, return_counts=True)\n",
        "\n",
        "# Combine unique_train_classes and unique_test_classes to get a unique set of all classes\n",
        "all_classes = np.unique(np.concatenate((unique_train_classes, unique_test_classes)))\n",
        "\n",
        "# Create the figure and axes\n",
        "fig, ax = plt.subplots()\n",
        "\n",
        "# Create two sets of bars for training and test data\n",
        "train_bars = ax.bar(unique_train_classes, train_class_counts, color='blue', label='Training')\n",
        "test_bars = ax.bar(unique_test_classes, test_class_counts, color='red', label='Test')\n",
        "\n",
        "# Add chart labels and title\n",
        "ax.set_xlabel(\"Organs\")\n",
        "ax.set_ylabel(\"Number of Annotated Bounding Boxes\")\n",
        "ax.set_title(\"Number of Annotated Bounding Boxes for Each Organ\")\n",
        "ax.legend()\n",
        "\n",
        "# Optional: Rotate x-axis labels to prevent overlapping\n",
        "plt.xticks(rotation=45, ha='right')\n",
        "\n",
        "# Display the plot\n",
        "plt.tight_layout()  # Adjust layout to avoid overlapping\n",
        "plt.show()"
      ],
      "metadata": {
        "colab": {
          "base_uri": "https://localhost:8080/",
          "height": 591
        },
        "id": "MbrxOIVuO2k-",
        "outputId": "6a8f38bf-418b-4b73-eba0-4c4bc3a7e2ff"
      },
      "execution_count": 8,
      "outputs": [
        {
          "output_type": "stream",
          "name": "stdout",
          "text": [
            "Nombre total d'images d'entraînement : 809\n",
            "Nombre total d'annotations d'entraînement : 4229\n",
            "Moyenne d'annotations par image d'entraînement : 5.227441285537701\n",
            "Nombre total d'images de test : 90\n",
            "Nombre total d'annotations de test : 485\n",
            "Moyenne d'annotations par image de test : 5.388888888888889\n"
          ]
        },
        {
          "output_type": "display_data",
          "data": {
            "text/plain": [
              "<Figure size 640x480 with 1 Axes>"
            ],
            "image/png": "[encoded data removed]"
          },
          "metadata": {}
        }
      ]
    },
    {
      "cell_type": "markdown",
      "source": [
        "Histogramme des couleurs des images"
      ],
      "metadata": {
        "id": "rDKXde8qt0gx"
      }
    },
    {
      "cell_type": "code",
      "source": [
        "import os\n",
        "import cv2\n",
        "import matplotlib.pyplot as plt\n",
        "import numpy as np\n",
        "\n",
        "# Chemin vers le dossier contenant les images\n",
        "images_folder = \"/content/drive/MyDrive/non_végétaux/train/images\"\n",
        "images_folder_ = \"/content/drive/MyDrive/non_végétaux/valid/images\"\n",
        "# Initialiser les listes pour stocker les histogrammes de couleurs\n",
        "histogram_blue = []\n",
        "histogram_green = []\n",
        "histogram_red = []\n",
        "\n",
        "# Parcourir tous les fichiers dans le dossier d'images\n",
        "for filename in os.listdir(images_folder):\n",
        "    if filename.endswith((\".jpg\", \".png\")):\n",
        "        image_path = os.path.join(images_folder, filename)\n",
        "\n",
        "        # Charger l'image\n",
        "        image = cv2.imread(image_path)\n",
        "\n",
        "        # Calculer l'histogramme de couleurs\n",
        "        hist_blue = cv2.calcHist([image], [0], None, [256], [0, 256])\n",
        "        hist_green = cv2.calcHist([image], [1], None, [256], [0, 256])\n",
        "        hist_red = cv2.calcHist([image], [2], None, [256], [0, 256])\n",
        "\n",
        "        # Normaliser les histogrammes (facultatif)\n",
        "        hist_blue = hist_blue / hist_blue.sum()\n",
        "        hist_green = hist_green / hist_green.sum()\n",
        "        hist_red = hist_red / hist_red.sum()\n",
        "\n",
        "        # Ajouter les histogrammes à la liste\n",
        "        histogram_blue.append(hist_blue.ravel())\n",
        "        histogram_green.append(hist_green.ravel())\n",
        "        histogram_red.append(hist_red.ravel())\n",
        "\n",
        "for filename in os.listdir(images_folder_):\n",
        "    if filename.endswith((\".jpg\", \".png\")):\n",
        "        image_path = os.path.join(images_folder_, filename)\n",
        "\n",
        "        # Charger l'image\n",
        "        image = cv2.imread(image_path)\n",
        "\n",
        "        # Calculer l'histogramme de couleurs\n",
        "        hist_blue = cv2.calcHist([image], [0], None, [256], [0, 256])\n",
        "        hist_green = cv2.calcHist([image], [1], None, [256], [0, 256])\n",
        "        hist_red = cv2.calcHist([image], [2], None, [256], [0, 256])\n",
        "\n",
        "        # Normaliser les histogrammes (facultatif)\n",
        "        hist_blue = hist_blue / hist_blue.sum()\n",
        "        hist_green = hist_green / hist_green.sum()\n",
        "        hist_red = hist_red / hist_red.sum()\n",
        "\n",
        "        # Ajouter les histogrammes à la liste\n",
        "        histogram_blue.append(hist_blue.ravel())\n",
        "        histogram_green.append(hist_green.ravel())\n",
        "        histogram_red.append(hist_red.ravel())\n",
        "\n",
        "# Convertir les listes en un tableau numpy\n",
        "histogram_blue = np.array(histogram_blue)\n",
        "histogram_green = np.array(histogram_green)\n",
        "histogram_red = np.array(histogram_red)\n",
        "\n",
        "# Créer un histogramme cumulatif (facultatif)\n",
        "cumulative_histogram_blue = np.cumsum(histogram_blue, axis=0)\n",
        "cumulative_histogram_green = np.cumsum(histogram_green, axis=0)\n",
        "cumulative_histogram_red = np.cumsum(histogram_red, axis=0)\n",
        "\n",
        "# Afficher les histogrammes\n",
        "plt.figure(figsize=(12, 6))\n",
        "\n",
        "# Afficher l'histogramme bleu\n",
        "plt.subplot(3, 1, 1)\n",
        "plt.plot(histogram_blue.T, color='blue')  # Transposer pour avoir les niveaux de couleur en abscisse\n",
        "plt.title('Histogramme de la composante bleue')\n",
        "plt.xlabel('Niveaux de couleur')\n",
        "plt.ylabel('Fréquence')\n",
        "\n",
        "# Afficher l'histogramme vert\n",
        "plt.subplot(3, 1, 2)\n",
        "plt.plot(histogram_green.T, color='green')\n",
        "plt.title('Histogramme de la composante verte')\n",
        "plt.xlabel('Niveaux de couleur')\n",
        "plt.ylabel('Fréquence')\n",
        "\n",
        "# Afficher l'histogramme rouge\n",
        "plt.subplot(3, 1, 3)\n",
        "plt.plot(histogram_red.T, color='red')\n",
        "plt.title('Histogramme de la composante rouge')\n",
        "plt.xlabel('Niveaux de couleur')\n",
        "plt.ylabel('Fréquence')\n",
        "\n",
        "plt.tight_layout()\n",
        "plt.show()"
      ],
      "metadata": {
        "colab": {
          "base_uri": "https://localhost:8080/",
          "height": 607
        },
        "id": "vydlMbvUnkZr",
        "outputId": "c33cde97-072d-4ff9-93e1-0db16b2108e1"
      },
      "execution_count": 9,
      "outputs": [
        {
          "output_type": "display_data",
          "data": {
            "text/plain": [
              "<Figure size 1200x600 with 3 Axes>"
            ],
            "image/png": "[encoded data removed]"
          },
          "metadata": {}
        }
      ]
    }
  ]
}