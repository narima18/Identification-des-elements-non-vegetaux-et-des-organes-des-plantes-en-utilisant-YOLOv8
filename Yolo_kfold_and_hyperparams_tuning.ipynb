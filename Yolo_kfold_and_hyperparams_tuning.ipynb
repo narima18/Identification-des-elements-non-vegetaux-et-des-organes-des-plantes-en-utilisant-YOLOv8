{
  "cells": [
    {
      "cell_type": "markdown",
      "metadata": {
        "id": "view-in-github",
        "colab_type": "text"
      },
      "source": [
        "<a href=\"https://colab.research.google.com/github/asma-10/Identification-des-elements-non-vegetaux-et-des-organes-des-plantes-en-utilisant-YOLOv8/blob/main/Yolo_kfold_and_hyperparams_tuning.ipynb\" target=\"_parent\"><img src=\"https://colab.research.google.com/assets/colab-badge.svg\" alt=\"Open In Colab\"/></a>"
      ]
    },
    {
      "cell_type": "code",
      "execution_count": null,
      "metadata": {
        "colab": {
          "base_uri": "https://localhost:8080/"
        },
        "id": "G76l1gLDoVdB",
        "outputId": "bc9dfe2d-7e3e-4894-dedd-c417e5bc52b4"
      },
      "outputs": [
        {
          "output_type": "stream",
          "name": "stdout",
          "text": [
            "Drive already mounted at /content/drive; to attempt to forcibly remount, call drive.mount(\"/content/drive\", force_remount=True).\n"
          ]
        }
      ],
      "source": [
        "from google.colab import drive\n",
        "import os\n",
        "\n",
        "# Mount Google Drive\n",
        "drive.mount('/content/drive')\n"
      ]
    },
    {
      "cell_type": "code",
      "execution_count": null,
      "metadata": {
        "colab": {
          "base_uri": "https://localhost:8080/"
        },
        "id": "h8KPcSPrGHs-",
        "outputId": "723770d7-1c74-4918-f2ad-ec3240adc89a"
      },
      "outputs": [
        {
          "output_type": "stream",
          "name": "stdout",
          "text": [
            "Requirement already satisfied: ultralytics in /usr/local/lib/python3.10/dist-packages (8.0.236)\n",
            "Requirement already satisfied: matplotlib>=3.3.0 in /usr/local/lib/python3.10/dist-packages (from ultralytics) (3.7.1)\n",
            "Requirement already satisfied: numpy>=1.22.2 in /usr/local/lib/python3.10/dist-packages (from ultralytics) (1.23.5)\n",
            "Requirement already satisfied: opencv-python>=4.6.0 in /usr/local/lib/python3.10/dist-packages (from ultralytics) (4.8.0.76)\n",
            "Requirement already satisfied: pillow>=7.1.2 in /usr/local/lib/python3.10/dist-packages (from ultralytics) (9.4.0)\n",
            "Requirement already satisfied: pyyaml>=5.3.1 in /usr/local/lib/python3.10/dist-packages (from ultralytics) (6.0.1)\n",
            "Requirement already satisfied: requests>=2.23.0 in /usr/local/lib/python3.10/dist-packages (from ultralytics) (2.31.0)\n",
            "Requirement already satisfied: scipy>=1.4.1 in /usr/local/lib/python3.10/dist-packages (from ultralytics) (1.11.4)\n",
            "Requirement already satisfied: torch>=1.8.0 in /usr/local/lib/python3.10/dist-packages (from ultralytics) (2.1.0+cu121)\n",
            "Requirement already satisfied: torchvision>=0.9.0 in /usr/local/lib/python3.10/dist-packages (from ultralytics) (0.16.0+cu121)\n",
            "Requirement already satisfied: tqdm>=4.64.0 in /usr/local/lib/python3.10/dist-packages (from ultralytics) (4.66.1)\n",
            "Requirement already satisfied: psutil in /usr/local/lib/python3.10/dist-packages (from ultralytics) (5.9.5)\n",
            "Requirement already satisfied: py-cpuinfo in /usr/local/lib/python3.10/dist-packages (from ultralytics) (9.0.0)\n",
            "Requirement already satisfied: thop>=0.1.1 in /usr/local/lib/python3.10/dist-packages (from ultralytics) (0.1.1.post2209072238)\n",
            "Requirement already satisfied: pandas>=1.1.4 in /usr/local/lib/python3.10/dist-packages (from ultralytics) (1.5.3)\n",
            "Requirement already satisfied: seaborn>=0.11.0 in /usr/local/lib/python3.10/dist-packages (from ultralytics) (0.12.2)\n",
            "Requirement already satisfied: contourpy>=1.0.1 in /usr/local/lib/python3.10/dist-packages (from matplotlib>=3.3.0->ultralytics) (1.2.0)\n",
            "Requirement already satisfied: cycler>=0.10 in /usr/local/lib/python3.10/dist-packages (from matplotlib>=3.3.0->ultralytics) (0.12.1)\n",
            "Requirement already satisfied: fonttools>=4.22.0 in /usr/local/lib/python3.10/dist-packages (from matplotlib>=3.3.0->ultralytics) (4.47.0)\n",
            "Requirement already satisfied: kiwisolver>=1.0.1 in /usr/local/lib/python3.10/dist-packages (from matplotlib>=3.3.0->ultralytics) (1.4.5)\n",
            "Requirement already satisfied: packaging>=20.0 in /usr/local/lib/python3.10/dist-packages (from matplotlib>=3.3.0->ultralytics) (23.2)\n",
            "Requirement already satisfied: pyparsing>=2.3.1 in /usr/local/lib/python3.10/dist-packages (from matplotlib>=3.3.0->ultralytics) (3.1.1)\n",
            "Requirement already satisfied: python-dateutil>=2.7 in /usr/local/lib/python3.10/dist-packages (from matplotlib>=3.3.0->ultralytics) (2.8.2)\n",
            "Requirement already satisfied: pytz>=2020.1 in /usr/local/lib/python3.10/dist-packages (from pandas>=1.1.4->ultralytics) (2023.3.post1)\n",
            "Requirement already satisfied: charset-normalizer<4,>=2 in /usr/local/lib/python3.10/dist-packages (from requests>=2.23.0->ultralytics) (3.3.2)\n",
            "Requirement already satisfied: idna<4,>=2.5 in /usr/local/lib/python3.10/dist-packages (from requests>=2.23.0->ultralytics) (3.6)\n",
            "Requirement already satisfied: urllib3<3,>=1.21.1 in /usr/local/lib/python3.10/dist-packages (from requests>=2.23.0->ultralytics) (2.0.7)\n",
            "Requirement already satisfied: certifi>=2017.4.17 in /usr/local/lib/python3.10/dist-packages (from requests>=2.23.0->ultralytics) (2023.11.17)\n",
            "Requirement already satisfied: filelock in /usr/local/lib/python3.10/dist-packages (from torch>=1.8.0->ultralytics) (3.13.1)\n",
            "Requirement already satisfied: typing-extensions in /usr/local/lib/python3.10/dist-packages (from torch>=1.8.0->ultralytics) (4.5.0)\n",
            "Requirement already satisfied: sympy in /usr/local/lib/python3.10/dist-packages (from torch>=1.8.0->ultralytics) (1.12)\n",
            "Requirement already satisfied: networkx in /usr/local/lib/python3.10/dist-packages (from torch>=1.8.0->ultralytics) (3.2.1)\n",
            "Requirement already satisfied: jinja2 in /usr/local/lib/python3.10/dist-packages (from torch>=1.8.0->ultralytics) (3.1.2)\n",
            "Requirement already satisfied: fsspec in /usr/local/lib/python3.10/dist-packages (from torch>=1.8.0->ultralytics) (2023.6.0)\n",
            "Requirement already satisfied: triton==2.1.0 in /usr/local/lib/python3.10/dist-packages (from torch>=1.8.0->ultralytics) (2.1.0)\n",
            "Requirement already satisfied: six>=1.5 in /usr/local/lib/python3.10/dist-packages (from python-dateutil>=2.7->matplotlib>=3.3.0->ultralytics) (1.16.0)\n",
            "Requirement already satisfied: MarkupSafe>=2.0 in /usr/local/lib/python3.10/dist-packages (from jinja2->torch>=1.8.0->ultralytics) (2.1.3)\n",
            "Requirement already satisfied: mpmath>=0.19 in /usr/local/lib/python3.10/dist-packages (from sympy->torch>=1.8.0->ultralytics) (1.3.0)\n"
          ]
        }
      ],
      "source": [
        "!pip install ultralytics\n",
        "# Install and update Ultralytics and Ray Tune packages\n",
        "#!pip install -U ultralytics \"ray[tune]\"\n"
      ]
    },
    {
      "cell_type": "markdown",
      "metadata": {
        "id": "TVdSnw9pnuag"
      },
      "source": [
        "**Replacing class names in labeling files by integers**"
      ]
    },
    {
      "cell_type": "code",
      "execution_count": null,
      "metadata": {
        "id": "M3Ti0GlV89pu"
      },
      "outputs": [],
      "source": [
        "\n",
        "def replace_class_with_integer(file_path):\n",
        "    # Define a mapping of class names to integers\n",
        "    class_mapping = {'leaf': 0, 'flower': 1, 'fruit': 2, 'seed': 3, 'stem': 4,'root':5}\n",
        "\n",
        "    # Read the content of the file\n",
        "    with open(file_path, 'r') as file:\n",
        "        lines = file.readlines()\n",
        "\n",
        "    # Process each line and replace the class name with the corresponding integer\n",
        "    modified_lines = []\n",
        "    for line in lines:\n",
        "        parts = line.strip().split()\n",
        "        if parts and parts[0] in class_mapping:\n",
        "            parts[0] = str(class_mapping[parts[0]])\n",
        "            modified_lines.append(' '.join(parts))\n",
        "\n",
        "    # Write the modified content back to the file\n",
        "    with open(file_path, 'w') as file:\n",
        "        file.write('\\n'.join(modified_lines))\n",
        "\n",
        "def process_folder(folder_path):\n",
        "    # Iterate through all files in the folder\n",
        "    for file_name in os.listdir(folder_path):\n",
        "        if file_name.endswith('.txt'):\n",
        "            file_path = os.path.join(folder_path, file_name)\n",
        "            replace_class_with_integer(file_path)\n",
        "\n",
        "# Replace classes with integers in all text files in the specified folder\n",
        "folder_path = '/content/drive/MyDrive/data/val/labels'\n",
        "process_folder(folder_path)\n"
      ]
    },
    {
      "cell_type": "markdown",
      "metadata": {
        "id": "2lTkYGEj8_KK"
      },
      "source": [
        "**Training the YOLOv8 Model on data Using Kfold Cross Validation**"
      ]
    },
    {
      "cell_type": "code",
      "source": [
        "import datetime\n",
        "import shutil\n",
        "from pathlib import Path\n",
        "from collections import Counter\n",
        "\n",
        "import yaml\n",
        "import numpy as np\n",
        "import pandas as pd\n",
        "from ultralytics import YOLO\n",
        "from sklearn.model_selection import KFold"
      ],
      "metadata": {
        "id": "NO1mmyN6EjM0"
      },
      "execution_count": null,
      "outputs": []
    },
    {
      "cell_type": "code",
      "source": [
        "dataset_path = Path('/content/drive/MyDrive/data') # replace with 'path/to/dataset' for your custom data\n",
        "labels = sorted(dataset_path.rglob(\"*labels/*.txt\")) # all data in 'labels'"
      ],
      "metadata": {
        "id": "kOQm5889EkIh"
      },
      "execution_count": 90,
      "outputs": []
    },
    {
      "cell_type": "code",
      "source": [
        "yaml_file = '/content/drive/MyDrive/data/dataset.yml'  # your data YAML with data directories and names dictionary\n",
        "with open(yaml_file, 'r', encoding=\"utf8\") as y:\n",
        "    classes = yaml.safe_load(y)['names']\n",
        "cls_idx = sorted(classes.keys())"
      ],
      "metadata": {
        "id": "t2_OcljFEmsO"
      },
      "execution_count": 115,
      "outputs": []
    },
    {
      "cell_type": "code",
      "source": [
        "indx = [l.stem for l in labels] # uses base filename as ID (no extension)\n",
        "labels_df = pd.DataFrame([], columns=cls_idx, index=indx)"
      ],
      "metadata": {
        "id": "UUObR-CTEqmr"
      },
      "execution_count": 116,
      "outputs": []
    },
    {
      "cell_type": "code",
      "source": [
        "\n",
        "for label in labels:\n",
        "    lbl_counter = Counter()\n",
        "\n",
        "    with open(label, 'r') as lf:\n",
        "        lines = lf.readlines()\n",
        "\n",
        "    for l in lines:\n",
        "        # Classes for YOLO label use an integer at the first position of each line\n",
        "        lbl_counter[int(l.split(' ')[0])] += 1\n",
        "\n",
        "    # Create a DataFrame from the Counter\n",
        "    lbl_df = pd.DataFrame.from_dict(lbl_counter, orient='index', columns=[label.stem])\n",
        "\n",
        "    # Transpose the DataFrame and assign it to labels_df\n",
        "    labels_df = labels_df.append(lbl_df.T, sort=False)\n",
        "\n",
        "# Fill NaN values with 0.0\n",
        "labels_df = labels_df.fillna(0.0)"
      ],
      "metadata": {
        "id": "3Fj4UDHvEt1h"
      },
      "execution_count": 117,
      "outputs": []
    },
    {
      "cell_type": "code",
      "source": [
        "ksplit = 3\n",
        "kf = KFold(n_splits=ksplit, shuffle=True)   # setting random_state for repeatable results\n",
        "\n",
        "kfolds = list(kf.split(labels_df))"
      ],
      "metadata": {
        "id": "Nh_8nS8KEvyD"
      },
      "execution_count": 122,
      "outputs": []
    },
    {
      "cell_type": "code",
      "source": [
        "folds = [f'split_{n}' for n in range(1, ksplit + 1)]\n",
        "folds_df = pd.DataFrame(index=indx, columns=folds)\n",
        "\n",
        "for idx, (train, val) in enumerate(kfolds, start=1):\n",
        "    folds_df[f'split_{idx}'].loc[labels_df.iloc[train].index] = 'train'\n",
        "    folds_df[f'split_{idx}'].loc[labels_df.iloc[val].index] = 'val'"
      ],
      "metadata": {
        "id": "9KbeCaBPE3kb"
      },
      "execution_count": 123,
      "outputs": []
    },
    {
      "cell_type": "code",
      "source": [
        "fold_lbl_distrb = pd.DataFrame(index=folds, columns=cls_idx)\n",
        "\n",
        "for n, (train_indices, val_indices) in enumerate(kfolds, start=1):\n",
        "    train_totals = labels_df.iloc[train_indices].sum()\n",
        "    val_totals = labels_df.iloc[val_indices].sum()\n",
        "\n",
        "    # To avoid division by zero, we add a small value (1E-7) to the denominator\n",
        "    ratio = val_totals / (train_totals + 1E-7)\n",
        "    fold_lbl_distrb.loc[f'split_{n}'] = ratio"
      ],
      "metadata": {
        "id": "dbCOxgOyE5xK"
      },
      "execution_count": 124,
      "outputs": []
    },
    {
      "cell_type": "code",
      "source": [
        "supported_extensions = ['.jpg', '.jpeg', '.png']\n",
        "\n",
        "# Initialize an empty list to store image file paths\n",
        "images = []\n",
        "\n",
        "# Loop through supported extensions and gather image files\n",
        "for ext in supported_extensions:\n",
        "    images.extend(sorted((dataset_path / 'images').rglob(f\"*{ext}\")))\n",
        "\n",
        "# Create the necessary directories and dataset YAML files (unchanged)\n",
        "save_path = Path(dataset_path / f'{datetime.date.today().isoformat()}_{ksplit}-Fold_Cross-val')\n",
        "save_path.mkdir(parents=True, exist_ok=True)\n",
        "ds_yamls = []\n",
        "\n",
        "for split in folds_df.columns:\n",
        "    # Create directories\n",
        "    split_dir = save_path / split\n",
        "    split_dir.mkdir(parents=True, exist_ok=True)\n",
        "    (split_dir / 'train' / 'images').mkdir(parents=True, exist_ok=True)\n",
        "    (split_dir / 'train' / 'labels').mkdir(parents=True, exist_ok=True)\n",
        "    (split_dir / 'val' / 'images').mkdir(parents=True, exist_ok=True)\n",
        "    (split_dir / 'val' / 'labels').mkdir(parents=True, exist_ok=True)\n",
        "\n",
        "    # Create dataset YAML files\n",
        "    dataset_yaml = split_dir / f'{split}_dataset.yaml'\n",
        "    ds_yamls.append(dataset_yaml)\n",
        "\n",
        "    with open(dataset_yaml, 'w') as ds_y:\n",
        "        yaml.safe_dump({\n",
        "            'path': split_dir.as_posix(),\n",
        "            'train': 'train',\n",
        "            'val': 'val',\n",
        "            'names': classes\n",
        "        }, ds_y)"
      ],
      "metadata": {
        "id": "jqyJnAejE8Py"
      },
      "execution_count": 125,
      "outputs": []
    },
    {
      "cell_type": "code",
      "source": [
        "import os\n",
        "import shutil\n",
        "\n",
        "data_path = '/content/drive/MyDrive/data'  # Replace with the actual path to your data folder\n",
        "\n",
        "# Assuming images and labels are folders inside the data folder\n",
        "images_path = os.path.join(data_path, 'images')\n",
        "labels_path = os.path.join(data_path, 'labels')\n",
        "\n",
        "# Iterate over the files in the 'images' folder\n",
        "for image_filename in os.listdir(images_path):\n",
        "    image_path = os.path.join(images_path, image_filename)\n",
        "\n",
        "    # Extract the filename without extension (stem) and extension separately\n",
        "    image_stem, image_ext = os.path.splitext(image_filename)\n",
        "\n",
        "    # Assuming corresponding label filenames match the image filenames\n",
        "    label_filename = image_stem + '.txt'  # Adjust the extension if needed\n",
        "    label_path = os.path.join(labels_path, label_filename)\n",
        "\n",
        "    # Assuming `folds_df` has columns 'split' and 'k_split' in each row\n",
        "    try:\n",
        "        split_value = folds_df.loc[image_stem, 'split']\n",
        "        k_split_value = folds_df.loc[image_stem, 'ksplit']\n",
        "    except KeyError:\n",
        "        # Handle the case where the keys are not present in the DataFrame\n",
        "        print(f\"Keys 'split' and 'k_split' not found for {image_stem}. Skipping.\")\n",
        "        continue\n",
        "\n",
        "    # Destination directory\n",
        "    img_to_path = os.path.join(save_path, str(split_value), str(k_split_value), 'images')\n",
        "    lbl_to_path = os.path.join(save_path, str(split_value), str(k_split_value), 'labels')\n",
        "\n",
        "    # Copy image and label files to new directory (SamefileError if file already exists)\n",
        "    shutil.copy(image_path, os.path.join(img_to_path, image_filename))\n",
        "    shutil.copy(label_path, os.path.join(lbl_to_path, label_filename))\n"
      ],
      "metadata": {
        "id": "g1RYTuyxFBjV",
        "colab": {
          "base_uri": "https://localhost:8080/"
        },
        "outputId": "430eb828-c18e-4b48-d416-cf320e1db1ee"
      },
      "execution_count": 126,
      "outputs": [
        {
          "output_type": "stream",
          "name": "stdout",
          "text": [
            "Keys 'split' and 'k_split' not found for 436951439. Skipping.\n",
            "Keys 'split' and 'k_split' not found for 436951425. Skipping.\n",
            "Keys 'split' and 'k_split' not found for 436951420. Skipping.\n",
            "Keys 'split' and 'k_split' not found for 436951406. Skipping.\n",
            "Keys 'split' and 'k_split' not found for 436951394. Skipping.\n",
            "Keys 'split' and 'k_split' not found for 436951393. Skipping.\n",
            "Keys 'split' and 'k_split' not found for 436951392. Skipping.\n",
            "Keys 'split' and 'k_split' not found for 436951492. Skipping.\n",
            "Keys 'split' and 'k_split' not found for 436951456. Skipping.\n",
            "Keys 'split' and 'k_split' not found for 436951449. Skipping.\n",
            "Keys 'split' and 'k_split' not found for 436951625. Skipping.\n",
            "Keys 'split' and 'k_split' not found for 436951989. Skipping.\n",
            "Keys 'split' and 'k_split' not found for 436951577. Skipping.\n",
            "Keys 'split' and 'k_split' not found for 436951539. Skipping.\n",
            "Keys 'split' and 'k_split' not found for 436951494. Skipping.\n",
            "Keys 'split' and 'k_split' not found for 436952282. Skipping.\n",
            "Keys 'split' and 'k_split' not found for 436952280. Skipping.\n",
            "Keys 'split' and 'k_split' not found for 436952275. Skipping.\n",
            "Keys 'split' and 'k_split' not found for 436952274. Skipping.\n",
            "Keys 'split' and 'k_split' not found for 436952269. Skipping.\n",
            "Keys 'split' and 'k_split' not found for 436952268. Skipping.\n",
            "Keys 'split' and 'k_split' not found for 436952258. Skipping.\n",
            "Keys 'split' and 'k_split' not found for 436952211. Skipping.\n",
            "Keys 'split' and 'k_split' not found for 436952179. Skipping.\n",
            "Keys 'split' and 'k_split' not found for 436952178. Skipping.\n",
            "Keys 'split' and 'k_split' not found for 436952171. Skipping.\n",
            "Keys 'split' and 'k_split' not found for 436952159. Skipping.\n",
            "Keys 'split' and 'k_split' not found for 436952151. Skipping.\n",
            "Keys 'split' and 'k_split' not found for 436952038. Skipping.\n",
            "Keys 'split' and 'k_split' not found for 436952037. Skipping.\n",
            "Keys 'split' and 'k_split' not found for 436952489. Skipping.\n",
            "Keys 'split' and 'k_split' not found for 436952485. Skipping.\n",
            "Keys 'split' and 'k_split' not found for 436952481. Skipping.\n",
            "Keys 'split' and 'k_split' not found for 436952460. Skipping.\n",
            "Keys 'split' and 'k_split' not found for 436952455. Skipping.\n",
            "Keys 'split' and 'k_split' not found for 436952454. Skipping.\n",
            "Keys 'split' and 'k_split' not found for 436952428. Skipping.\n",
            "Keys 'split' and 'k_split' not found for 436952363. Skipping.\n",
            "Keys 'split' and 'k_split' not found for 436952303. Skipping.\n",
            "Keys 'split' and 'k_split' not found for 436952304. Skipping.\n",
            "Keys 'split' and 'k_split' not found for 436952302. Skipping.\n",
            "Keys 'split' and 'k_split' not found for 436952300. Skipping.\n",
            "Keys 'split' and 'k_split' not found for 436952299. Skipping.\n",
            "Keys 'split' and 'k_split' not found for 436952298. Skipping.\n",
            "Keys 'split' and 'k_split' not found for 436952293. Skipping.\n",
            "Keys 'split' and 'k_split' not found for 436952292. Skipping.\n",
            "Keys 'split' and 'k_split' not found for 436952290. Skipping.\n",
            "Keys 'split' and 'k_split' not found for 436953004. Skipping.\n",
            "Keys 'split' and 'k_split' not found for 436953003. Skipping.\n",
            "Keys 'split' and 'k_split' not found for 436953001. Skipping.\n",
            "Keys 'split' and 'k_split' not found for 436952975. Skipping.\n",
            "Keys 'split' and 'k_split' not found for 436952935. Skipping.\n",
            "Keys 'split' and 'k_split' not found for 436952882. Skipping.\n",
            "Keys 'split' and 'k_split' not found for 436952881. Skipping.\n",
            "Keys 'split' and 'k_split' not found for 436952848. Skipping.\n",
            "Keys 'split' and 'k_split' not found for 436952847. Skipping.\n",
            "Keys 'split' and 'k_split' not found for 436952846. Skipping.\n",
            "Keys 'split' and 'k_split' not found for 436952834. Skipping.\n",
            "Keys 'split' and 'k_split' not found for 436952832. Skipping.\n",
            "Keys 'split' and 'k_split' not found for 436952830. Skipping.\n",
            "Keys 'split' and 'k_split' not found for 436952829. Skipping.\n",
            "Keys 'split' and 'k_split' not found for 436952828. Skipping.\n",
            "Keys 'split' and 'k_split' not found for 436952785. Skipping.\n",
            "Keys 'split' and 'k_split' not found for 436952784. Skipping.\n",
            "Keys 'split' and 'k_split' not found for 436952781. Skipping.\n",
            "Keys 'split' and 'k_split' not found for 436952769. Skipping.\n",
            "Keys 'split' and 'k_split' not found for 436952760. Skipping.\n",
            "Keys 'split' and 'k_split' not found for 436952758. Skipping.\n",
            "Keys 'split' and 'k_split' not found for 436952755. Skipping.\n",
            "Keys 'split' and 'k_split' not found for 436952594. Skipping.\n",
            "Keys 'split' and 'k_split' not found for 436952577. Skipping.\n",
            "Keys 'split' and 'k_split' not found for 436952581. Skipping.\n",
            "Keys 'split' and 'k_split' not found for 436952517. Skipping.\n",
            "Keys 'split' and 'k_split' not found for 436952516. Skipping.\n",
            "Keys 'split' and 'k_split' not found for 436953456. Skipping.\n",
            "Keys 'split' and 'k_split' not found for 436953439. Skipping.\n",
            "Keys 'split' and 'k_split' not found for 436953431. Skipping.\n",
            "Keys 'split' and 'k_split' not found for 436953419. Skipping.\n",
            "Keys 'split' and 'k_split' not found for 436953409. Skipping.\n",
            "Keys 'split' and 'k_split' not found for 436953407. Skipping.\n",
            "Keys 'split' and 'k_split' not found for 436953374. Skipping.\n",
            "Keys 'split' and 'k_split' not found for 436953297. Skipping.\n",
            "Keys 'split' and 'k_split' not found for 436953252. Skipping.\n",
            "Keys 'split' and 'k_split' not found for 436953243. Skipping.\n",
            "Keys 'split' and 'k_split' not found for 436953233. Skipping.\n",
            "Keys 'split' and 'k_split' not found for 436953224. Skipping.\n",
            "Keys 'split' and 'k_split' not found for 436953215. Skipping.\n",
            "Keys 'split' and 'k_split' not found for 436953203. Skipping.\n",
            "Keys 'split' and 'k_split' not found for 436953201. Skipping.\n",
            "Keys 'split' and 'k_split' not found for 436953200. Skipping.\n",
            "Keys 'split' and 'k_split' not found for 436953165. Skipping.\n",
            "Keys 'split' and 'k_split' not found for 436953164. Skipping.\n",
            "Keys 'split' and 'k_split' not found for 436953163. Skipping.\n",
            "Keys 'split' and 'k_split' not found for 436953162. Skipping.\n",
            "Keys 'split' and 'k_split' not found for 436953154. Skipping.\n",
            "Keys 'split' and 'k_split' not found for 436953152. Skipping.\n",
            "Keys 'split' and 'k_split' not found for 436953107. Skipping.\n",
            "Keys 'split' and 'k_split' not found for 436953077. Skipping.\n",
            "Keys 'split' and 'k_split' not found for 436953024. Skipping.\n",
            "Keys 'split' and 'k_split' not found for 436953071. Skipping.\n",
            "Keys 'split' and 'k_split' not found for 436953014. Skipping.\n",
            "Keys 'split' and 'k_split' not found for 436953015. Skipping.\n",
            "Keys 'split' and 'k_split' not found for 436953010. Skipping.\n",
            "Keys 'split' and 'k_split' not found for 436953008. Skipping.\n",
            "Keys 'split' and 'k_split' not found for 436953005. Skipping.\n",
            "Keys 'split' and 'k_split' not found for 436954499. Skipping.\n",
            "Keys 'split' and 'k_split' not found for 436954486. Skipping.\n",
            "Keys 'split' and 'k_split' not found for 436954446. Skipping.\n",
            "Keys 'split' and 'k_split' not found for 436954442. Skipping.\n",
            "Keys 'split' and 'k_split' not found for 436954439. Skipping.\n",
            "Keys 'split' and 'k_split' not found for 436954417. Skipping.\n",
            "Keys 'split' and 'k_split' not found for 436954416. Skipping.\n",
            "Keys 'split' and 'k_split' not found for 436954403. Skipping.\n",
            "Keys 'split' and 'k_split' not found for 436954401. Skipping.\n",
            "Keys 'split' and 'k_split' not found for 436954355. Skipping.\n",
            "Keys 'split' and 'k_split' not found for 436954354. Skipping.\n",
            "Keys 'split' and 'k_split' not found for 436954348. Skipping.\n",
            "Keys 'split' and 'k_split' not found for 436954230. Skipping.\n",
            "Keys 'split' and 'k_split' not found for 436954223. Skipping.\n",
            "Keys 'split' and 'k_split' not found for 436954188. Skipping.\n",
            "Keys 'split' and 'k_split' not found for 436954159. Skipping.\n",
            "Keys 'split' and 'k_split' not found for 436954137. Skipping.\n",
            "Keys 'split' and 'k_split' not found for 436954092. Skipping.\n",
            "Keys 'split' and 'k_split' not found for 436954103. Skipping.\n",
            "Keys 'split' and 'k_split' not found for 436954091. Skipping.\n",
            "Keys 'split' and 'k_split' not found for 436953999. Skipping.\n",
            "Keys 'split' and 'k_split' not found for 436954083. Skipping.\n",
            "Keys 'split' and 'k_split' not found for 436953895. Skipping.\n",
            "Keys 'split' and 'k_split' not found for 436953549. Skipping.\n",
            "Keys 'split' and 'k_split' not found for 436953548. Skipping.\n",
            "Keys 'split' and 'k_split' not found for 436953531. Skipping.\n",
            "Keys 'split' and 'k_split' not found for 436953528. Skipping.\n",
            "Keys 'split' and 'k_split' not found for 436953507. Skipping.\n",
            "Keys 'split' and 'k_split' not found for 436953492. Skipping.\n",
            "Keys 'split' and 'k_split' not found for 436953490. Skipping.\n",
            "Keys 'split' and 'k_split' not found for 436953486. Skipping.\n",
            "Keys 'split' and 'k_split' not found for 436953476. Skipping.\n",
            "Keys 'split' and 'k_split' not found for 436953465. Skipping.\n",
            "Keys 'split' and 'k_split' not found for 436953467. Skipping.\n",
            "Keys 'split' and 'k_split' not found for 436955587. Skipping.\n",
            "Keys 'split' and 'k_split' not found for 436955586. Skipping.\n",
            "Keys 'split' and 'k_split' not found for 436955567. Skipping.\n",
            "Keys 'split' and 'k_split' not found for 436955565. Skipping.\n",
            "Keys 'split' and 'k_split' not found for 436955562. Skipping.\n",
            "Keys 'split' and 'k_split' not found for 436955541. Skipping.\n",
            "Keys 'split' and 'k_split' not found for 436955340. Skipping.\n",
            "Keys 'split' and 'k_split' not found for 436955300. Skipping.\n",
            "Keys 'split' and 'k_split' not found for 436955295. Skipping.\n",
            "Keys 'split' and 'k_split' not found for 436955260. Skipping.\n",
            "Keys 'split' and 'k_split' not found for 436955214. Skipping.\n",
            "Keys 'split' and 'k_split' not found for 436955171. Skipping.\n",
            "Keys 'split' and 'k_split' not found for 436955097. Skipping.\n",
            "Keys 'split' and 'k_split' not found for 436955080. Skipping.\n",
            "Keys 'split' and 'k_split' not found for 436955068. Skipping.\n",
            "Keys 'split' and 'k_split' not found for 436954963. Skipping.\n",
            "Keys 'split' and 'k_split' not found for 436954959. Skipping.\n",
            "Keys 'split' and 'k_split' not found for 436954956. Skipping.\n",
            "Keys 'split' and 'k_split' not found for 436954872. Skipping.\n",
            "Keys 'split' and 'k_split' not found for 436954865. Skipping.\n",
            "Keys 'split' and 'k_split' not found for 436954783. Skipping.\n",
            "Keys 'split' and 'k_split' not found for 436954757. Skipping.\n",
            "Keys 'split' and 'k_split' not found for 436954755. Skipping.\n",
            "Keys 'split' and 'k_split' not found for 436954747. Skipping.\n",
            "Keys 'split' and 'k_split' not found for 436954710. Skipping.\n",
            "Keys 'split' and 'k_split' not found for 436954707. Skipping.\n",
            "Keys 'split' and 'k_split' not found for 436954614. Skipping.\n",
            "Keys 'split' and 'k_split' not found for 436954613. Skipping.\n",
            "Keys 'split' and 'k_split' not found for 436954607. Skipping.\n",
            "Keys 'split' and 'k_split' not found for 436954561. Skipping.\n",
            "Keys 'split' and 'k_split' not found for 436954558. Skipping.\n",
            "Keys 'split' and 'k_split' not found for 436954557. Skipping.\n",
            "Keys 'split' and 'k_split' not found for 436954540. Skipping.\n",
            "Keys 'split' and 'k_split' not found for 436954538. Skipping.\n",
            "Keys 'split' and 'k_split' not found for 436954500. Skipping.\n",
            "Keys 'split' and 'k_split' not found for 436956323. Skipping.\n",
            "Keys 'split' and 'k_split' not found for 436956292. Skipping.\n",
            "Keys 'split' and 'k_split' not found for 436956269. Skipping.\n",
            "Keys 'split' and 'k_split' not found for 436956241. Skipping.\n",
            "Keys 'split' and 'k_split' not found for 436955796. Skipping.\n",
            "Keys 'split' and 'k_split' not found for 436955781. Skipping.\n",
            "Keys 'split' and 'k_split' not found for 436955772. Skipping.\n",
            "Keys 'split' and 'k_split' not found for 436955771. Skipping.\n",
            "Keys 'split' and 'k_split' not found for 436955770. Skipping.\n",
            "Keys 'split' and 'k_split' not found for 436955766. Skipping.\n",
            "Keys 'split' and 'k_split' not found for 436955765. Skipping.\n",
            "Keys 'split' and 'k_split' not found for 436955763. Skipping.\n",
            "Keys 'split' and 'k_split' not found for 436955761. Skipping.\n",
            "Keys 'split' and 'k_split' not found for 436955760. Skipping.\n",
            "Keys 'split' and 'k_split' not found for 436955759. Skipping.\n",
            "Keys 'split' and 'k_split' not found for 436955748. Skipping.\n",
            "Keys 'split' and 'k_split' not found for 436955736. Skipping.\n",
            "Keys 'split' and 'k_split' not found for 436955729. Skipping.\n",
            "Keys 'split' and 'k_split' not found for 436955728. Skipping.\n",
            "Keys 'split' and 'k_split' not found for 436955727. Skipping.\n",
            "Keys 'split' and 'k_split' not found for 436955725. Skipping.\n",
            "Keys 'split' and 'k_split' not found for 436955643. Skipping.\n",
            "Keys 'split' and 'k_split' not found for 436955724. Skipping.\n",
            "Keys 'split' and 'k_split' not found for 436955642. Skipping.\n",
            "Keys 'split' and 'k_split' not found for 436955638. Skipping.\n",
            "Keys 'split' and 'k_split' not found for 436955624. Skipping.\n",
            "Keys 'split' and 'k_split' not found for 436955630. Skipping.\n",
            "Keys 'split' and 'k_split' not found for 436955619. Skipping.\n",
            "Keys 'split' and 'k_split' not found for 436955622. Skipping.\n",
            "Keys 'split' and 'k_split' not found for 436955618. Skipping.\n",
            "Keys 'split' and 'k_split' not found for 436955606. Skipping.\n",
            "Keys 'split' and 'k_split' not found for 436955589. Skipping.\n",
            "Keys 'split' and 'k_split' not found for 436955604. Skipping.\n",
            "Keys 'split' and 'k_split' not found for 436956496. Skipping.\n",
            "Keys 'split' and 'k_split' not found for 436956488. Skipping.\n",
            "Keys 'split' and 'k_split' not found for 436956445. Skipping.\n",
            "Keys 'split' and 'k_split' not found for 436956483. Skipping.\n",
            "Keys 'split' and 'k_split' not found for 436956440. Skipping.\n",
            "Keys 'split' and 'k_split' not found for 436956439. Skipping.\n",
            "Keys 'split' and 'k_split' not found for 436956438. Skipping.\n",
            "Keys 'split' and 'k_split' not found for 436956425. Skipping.\n",
            "Keys 'split' and 'k_split' not found for 436956423. Skipping.\n",
            "Keys 'split' and 'k_split' not found for 436956422. Skipping.\n",
            "Keys 'split' and 'k_split' not found for 436956421. Skipping.\n",
            "Keys 'split' and 'k_split' not found for 436956420. Skipping.\n",
            "Keys 'split' and 'k_split' not found for 436956419. Skipping.\n",
            "Keys 'split' and 'k_split' not found for 436956414. Skipping.\n",
            "Keys 'split' and 'k_split' not found for 436956411. Skipping.\n",
            "Keys 'split' and 'k_split' not found for 436956410. Skipping.\n",
            "Keys 'split' and 'k_split' not found for 436956407. Skipping.\n",
            "Keys 'split' and 'k_split' not found for 436956406. Skipping.\n",
            "Keys 'split' and 'k_split' not found for 436956405. Skipping.\n",
            "Keys 'split' and 'k_split' not found for 436956404. Skipping.\n",
            "Keys 'split' and 'k_split' not found for 436956402. Skipping.\n",
            "Keys 'split' and 'k_split' not found for 436956401. Skipping.\n",
            "Keys 'split' and 'k_split' not found for 436956400. Skipping.\n",
            "Keys 'split' and 'k_split' not found for 436956395. Skipping.\n",
            "Keys 'split' and 'k_split' not found for 436956394. Skipping.\n",
            "Keys 'split' and 'k_split' not found for 436956384. Skipping.\n",
            "Keys 'split' and 'k_split' not found for 436956383. Skipping.\n",
            "Keys 'split' and 'k_split' not found for 436956382. Skipping.\n",
            "Keys 'split' and 'k_split' not found for 436956379. Skipping.\n",
            "Keys 'split' and 'k_split' not found for 436956378. Skipping.\n",
            "Keys 'split' and 'k_split' not found for 436956369. Skipping.\n",
            "Keys 'split' and 'k_split' not found for 436956367. Skipping.\n",
            "Keys 'split' and 'k_split' not found for 436956366. Skipping.\n",
            "Keys 'split' and 'k_split' not found for 436956361. Skipping.\n",
            "Keys 'split' and 'k_split' not found for 436956360. Skipping.\n",
            "Keys 'split' and 'k_split' not found for 436956348. Skipping.\n",
            "Keys 'split' and 'k_split' not found for 436956336. Skipping.\n",
            "Keys 'split' and 'k_split' not found for 436958592. Skipping.\n",
            "Keys 'split' and 'k_split' not found for 436958572. Skipping.\n",
            "Keys 'split' and 'k_split' not found for 436958542. Skipping.\n",
            "Keys 'split' and 'k_split' not found for 436958511. Skipping.\n",
            "Keys 'split' and 'k_split' not found for 436958447. Skipping.\n",
            "Keys 'split' and 'k_split' not found for 436958439. Skipping.\n",
            "Keys 'split' and 'k_split' not found for 436958052. Skipping.\n",
            "Keys 'split' and 'k_split' not found for 436958436. Skipping.\n",
            "Keys 'split' and 'k_split' not found for 436958051. Skipping.\n",
            "Keys 'split' and 'k_split' not found for 436958045. Skipping.\n",
            "Keys 'split' and 'k_split' not found for 436958043. Skipping.\n",
            "Keys 'split' and 'k_split' not found for 436957890. Skipping.\n",
            "Keys 'split' and 'k_split' not found for 436957892. Skipping.\n",
            "Keys 'split' and 'k_split' not found for 436957765. Skipping.\n",
            "Keys 'split' and 'k_split' not found for 436957613. Skipping.\n",
            "Keys 'split' and 'k_split' not found for 436957568. Skipping.\n",
            "Keys 'split' and 'k_split' not found for 436957551. Skipping.\n",
            "Keys 'split' and 'k_split' not found for 436957286. Skipping.\n",
            "Keys 'split' and 'k_split' not found for 436957270. Skipping.\n",
            "Keys 'split' and 'k_split' not found for 436957200. Skipping.\n",
            "Keys 'split' and 'k_split' not found for 436957219. Skipping.\n",
            "Keys 'split' and 'k_split' not found for 436957062. Skipping.\n",
            "Keys 'split' and 'k_split' not found for 436956943. Skipping.\n",
            "Keys 'split' and 'k_split' not found for 436956942. Skipping.\n",
            "Keys 'split' and 'k_split' not found for 436956876. Skipping.\n",
            "Keys 'split' and 'k_split' not found for 436956513. Skipping.\n",
            "Keys 'split' and 'k_split' not found for 436956509. Skipping.\n",
            "Keys 'split' and 'k_split' not found for 436956508. Skipping.\n",
            "Keys 'split' and 'k_split' not found for 436956506. Skipping.\n",
            "Keys 'split' and 'k_split' not found for 436956504. Skipping.\n",
            "Keys 'split' and 'k_split' not found for 436956499. Skipping.\n",
            "Keys 'split' and 'k_split' not found for 436956497. Skipping.\n",
            "Keys 'split' and 'k_split' not found for 436959738. Skipping.\n",
            "Keys 'split' and 'k_split' not found for 436959720. Skipping.\n",
            "Keys 'split' and 'k_split' not found for 436959613. Skipping.\n",
            "Keys 'split' and 'k_split' not found for 436959346. Skipping.\n",
            "Keys 'split' and 'k_split' not found for 436959339. Skipping.\n",
            "Keys 'split' and 'k_split' not found for 436959052. Skipping.\n",
            "Keys 'split' and 'k_split' not found for 436959004. Skipping.\n",
            "Keys 'split' and 'k_split' not found for 436959003. Skipping.\n",
            "Keys 'split' and 'k_split' not found for 436958963. Skipping.\n",
            "Keys 'split' and 'k_split' not found for 436958957. Skipping.\n",
            "Keys 'split' and 'k_split' not found for 436958956. Skipping.\n",
            "Keys 'split' and 'k_split' not found for 436958950. Skipping.\n",
            "Keys 'split' and 'k_split' not found for 436958944. Skipping.\n",
            "Keys 'split' and 'k_split' not found for 436958939. Skipping.\n",
            "Keys 'split' and 'k_split' not found for 436958922. Skipping.\n",
            "Keys 'split' and 'k_split' not found for 436958833. Skipping.\n",
            "Keys 'split' and 'k_split' not found for 436958810. Skipping.\n",
            "Keys 'split' and 'k_split' not found for 436958736. Skipping.\n",
            "Keys 'split' and 'k_split' not found for 436958734. Skipping.\n",
            "Keys 'split' and 'k_split' not found for 436958698. Skipping.\n",
            "Keys 'split' and 'k_split' not found for 436958687. Skipping.\n",
            "Keys 'split' and 'k_split' not found for 436958692. Skipping.\n",
            "Keys 'split' and 'k_split' not found for 436958660. Skipping.\n",
            "Keys 'split' and 'k_split' not found for 436958636. Skipping.\n",
            "Keys 'split' and 'k_split' not found for 436958633. Skipping.\n",
            "Keys 'split' and 'k_split' not found for 436958630. Skipping.\n",
            "Keys 'split' and 'k_split' not found for 436958611. Skipping.\n",
            "Keys 'split' and 'k_split' not found for 436958601. Skipping.\n",
            "Keys 'split' and 'k_split' not found for 436958600. Skipping.\n",
            "Keys 'split' and 'k_split' not found for 436960562. Skipping.\n",
            "Keys 'split' and 'k_split' not found for 436960543. Skipping.\n",
            "Keys 'split' and 'k_split' not found for 436960542. Skipping.\n",
            "Keys 'split' and 'k_split' not found for 436960207. Skipping.\n",
            "Keys 'split' and 'k_split' not found for 436960204. Skipping.\n",
            "Keys 'split' and 'k_split' not found for 436960200. Skipping.\n",
            "Keys 'split' and 'k_split' not found for 436960180. Skipping.\n",
            "Keys 'split' and 'k_split' not found for 436960158. Skipping.\n",
            "Keys 'split' and 'k_split' not found for 436960168. Skipping.\n",
            "Keys 'split' and 'k_split' not found for 436960157. Skipping.\n",
            "Keys 'split' and 'k_split' not found for 436960153. Skipping.\n",
            "Keys 'split' and 'k_split' not found for 436960152. Skipping.\n",
            "Keys 'split' and 'k_split' not found for 436960149. Skipping.\n",
            "Keys 'split' and 'k_split' not found for 436960146. Skipping.\n",
            "Keys 'split' and 'k_split' not found for 436960145. Skipping.\n",
            "Keys 'split' and 'k_split' not found for 436960144. Skipping.\n",
            "Keys 'split' and 'k_split' not found for 436960116. Skipping.\n",
            "Keys 'split' and 'k_split' not found for 436960067. Skipping.\n",
            "Keys 'split' and 'k_split' not found for 436960059. Skipping.\n",
            "Keys 'split' and 'k_split' not found for 436960044. Skipping.\n",
            "Keys 'split' and 'k_split' not found for 436960036. Skipping.\n",
            "Keys 'split' and 'k_split' not found for 436960008. Skipping.\n",
            "Keys 'split' and 'k_split' not found for 436960007. Skipping.\n",
            "Keys 'split' and 'k_split' not found for 436960006. Skipping.\n",
            "Keys 'split' and 'k_split' not found for 436960005. Skipping.\n",
            "Keys 'split' and 'k_split' not found for 436960004. Skipping.\n",
            "Keys 'split' and 'k_split' not found for 436959988. Skipping.\n",
            "Keys 'split' and 'k_split' not found for 436959983. Skipping.\n",
            "Keys 'split' and 'k_split' not found for 436959982. Skipping.\n",
            "Keys 'split' and 'k_split' not found for 436959980. Skipping.\n",
            "Keys 'split' and 'k_split' not found for 436959973. Skipping.\n",
            "Keys 'split' and 'k_split' not found for 436959966. Skipping.\n",
            "Keys 'split' and 'k_split' not found for 436959862. Skipping.\n",
            "Keys 'split' and 'k_split' not found for 436959756. Skipping.\n",
            "Keys 'split' and 'k_split' not found for 436959740. Skipping.\n",
            "Keys 'split' and 'k_split' not found for 436959739. Skipping.\n",
            "Keys 'split' and 'k_split' not found for 436961283. Skipping.\n",
            "Keys 'split' and 'k_split' not found for 436961275. Skipping.\n",
            "Keys 'split' and 'k_split' not found for 436961274. Skipping.\n",
            "Keys 'split' and 'k_split' not found for 436961272. Skipping.\n",
            "Keys 'split' and 'k_split' not found for 436961262. Skipping.\n",
            "Keys 'split' and 'k_split' not found for 436961261. Skipping.\n",
            "Keys 'split' and 'k_split' not found for 436961260. Skipping.\n",
            "Keys 'split' and 'k_split' not found for 436961259. Skipping.\n",
            "Keys 'split' and 'k_split' not found for 436961258. Skipping.\n",
            "Keys 'split' and 'k_split' not found for 436961257. Skipping.\n",
            "Keys 'split' and 'k_split' not found for 436961256. Skipping.\n",
            "Keys 'split' and 'k_split' not found for 436961255. Skipping.\n",
            "Keys 'split' and 'k_split' not found for 436961246. Skipping.\n",
            "Keys 'split' and 'k_split' not found for 436961245. Skipping.\n",
            "Keys 'split' and 'k_split' not found for 436961243. Skipping.\n",
            "Keys 'split' and 'k_split' not found for 436961225. Skipping.\n",
            "Keys 'split' and 'k_split' not found for 436961224. Skipping.\n",
            "Keys 'split' and 'k_split' not found for 436961213. Skipping.\n",
            "Keys 'split' and 'k_split' not found for 436961204. Skipping.\n",
            "Keys 'split' and 'k_split' not found for 436961200. Skipping.\n",
            "Keys 'split' and 'k_split' not found for 436961198. Skipping.\n",
            "Keys 'split' and 'k_split' not found for 436961186. Skipping.\n",
            "Keys 'split' and 'k_split' not found for 436961164. Skipping.\n",
            "Keys 'split' and 'k_split' not found for 436961033. Skipping.\n",
            "Keys 'split' and 'k_split' not found for 436960965. Skipping.\n",
            "Keys 'split' and 'k_split' not found for 436960974. Skipping.\n",
            "Keys 'split' and 'k_split' not found for 436960951. Skipping.\n",
            "Keys 'split' and 'k_split' not found for 436960842. Skipping.\n",
            "Keys 'split' and 'k_split' not found for 436960734. Skipping.\n",
            "Keys 'split' and 'k_split' not found for 436960777. Skipping.\n",
            "Keys 'split' and 'k_split' not found for 436960723. Skipping.\n",
            "Keys 'split' and 'k_split' not found for 436960717. Skipping.\n",
            "Keys 'split' and 'k_split' not found for 436960685. Skipping.\n",
            "Keys 'split' and 'k_split' not found for 436960684. Skipping.\n",
            "Keys 'split' and 'k_split' not found for 436960683. Skipping.\n",
            "Keys 'split' and 'k_split' not found for 436960641. Skipping.\n",
            "Keys 'split' and 'k_split' not found for 436962383. Skipping.\n",
            "Keys 'split' and 'k_split' not found for 436962339. Skipping.\n",
            "Keys 'split' and 'k_split' not found for 436962246. Skipping.\n",
            "Keys 'split' and 'k_split' not found for 436962220. Skipping.\n",
            "Keys 'split' and 'k_split' not found for 436962173. Skipping.\n",
            "Keys 'split' and 'k_split' not found for 436962171. Skipping.\n",
            "Keys 'split' and 'k_split' not found for 436962140. Skipping.\n",
            "Keys 'split' and 'k_split' not found for 436962135. Skipping.\n",
            "Keys 'split' and 'k_split' not found for 436962120. Skipping.\n",
            "Keys 'split' and 'k_split' not found for 436962116. Skipping.\n",
            "Keys 'split' and 'k_split' not found for 436962107. Skipping.\n",
            "Keys 'split' and 'k_split' not found for 436962073. Skipping.\n",
            "Keys 'split' and 'k_split' not found for 436962071. Skipping.\n",
            "Keys 'split' and 'k_split' not found for 436962014. Skipping.\n",
            "Keys 'split' and 'k_split' not found for 436962013. Skipping.\n",
            "Keys 'split' and 'k_split' not found for 436961800. Skipping.\n",
            "Keys 'split' and 'k_split' not found for 436961594. Skipping.\n",
            "Keys 'split' and 'k_split' not found for 436961582. Skipping.\n",
            "Keys 'split' and 'k_split' not found for 436961573. Skipping.\n",
            "Keys 'split' and 'k_split' not found for 436961567. Skipping.\n",
            "Keys 'split' and 'k_split' not found for 436961524. Skipping.\n",
            "Keys 'split' and 'k_split' not found for 436961497. Skipping.\n",
            "Keys 'split' and 'k_split' not found for 436961496. Skipping.\n",
            "Keys 'split' and 'k_split' not found for 436961495. Skipping.\n",
            "Keys 'split' and 'k_split' not found for 436961484. Skipping.\n",
            "Keys 'split' and 'k_split' not found for 436961483. Skipping.\n",
            "Keys 'split' and 'k_split' not found for 436961481. Skipping.\n",
            "Keys 'split' and 'k_split' not found for 436961479. Skipping.\n",
            "Keys 'split' and 'k_split' not found for 436961423. Skipping.\n",
            "Keys 'split' and 'k_split' not found for 436961422. Skipping.\n",
            "Keys 'split' and 'k_split' not found for 436961420. Skipping.\n",
            "Keys 'split' and 'k_split' not found for 436961414. Skipping.\n",
            "Keys 'split' and 'k_split' not found for 436961304. Skipping.\n",
            "Keys 'split' and 'k_split' not found for 436961302. Skipping.\n",
            "Keys 'split' and 'k_split' not found for 436961300. Skipping.\n",
            "Keys 'split' and 'k_split' not found for 436961298. Skipping.\n",
            "Keys 'split' and 'k_split' not found for 436962851. Skipping.\n",
            "Keys 'split' and 'k_split' not found for 436962433. Skipping.\n",
            "Keys 'split' and 'k_split' not found for 436962394. Skipping.\n",
            "Keys 'split' and 'k_split' not found for 436962392. Skipping.\n",
            "Keys 'split' and 'k_split' not found for 436962391. Skipping.\n",
            "Keys 'split' and 'k_split' not found for 436963230. Skipping.\n",
            "Keys 'split' and 'k_split' not found for 436963228. Skipping.\n",
            "Keys 'split' and 'k_split' not found for 436963212. Skipping.\n",
            "Keys 'split' and 'k_split' not found for 436963220. Skipping.\n",
            "Keys 'split' and 'k_split' not found for 436963211. Skipping.\n",
            "Keys 'split' and 'k_split' not found for 436963206. Skipping.\n",
            "Keys 'split' and 'k_split' not found for 436963204. Skipping.\n",
            "Keys 'split' and 'k_split' not found for 436963203. Skipping.\n",
            "Keys 'split' and 'k_split' not found for 436963202. Skipping.\n",
            "Keys 'split' and 'k_split' not found for 436963200. Skipping.\n",
            "Keys 'split' and 'k_split' not found for 436963199. Skipping.\n",
            "Keys 'split' and 'k_split' not found for 436963197. Skipping.\n",
            "Keys 'split' and 'k_split' not found for 436963186. Skipping.\n",
            "Keys 'split' and 'k_split' not found for 436963183. Skipping.\n",
            "Keys 'split' and 'k_split' not found for 436963182. Skipping.\n",
            "Keys 'split' and 'k_split' not found for 436963180. Skipping.\n",
            "Keys 'split' and 'k_split' not found for 436963178. Skipping.\n",
            "Keys 'split' and 'k_split' not found for 436963176. Skipping.\n",
            "Keys 'split' and 'k_split' not found for 436963174. Skipping.\n",
            "Keys 'split' and 'k_split' not found for 436963172. Skipping.\n",
            "Keys 'split' and 'k_split' not found for 436963171. Skipping.\n",
            "Keys 'split' and 'k_split' not found for 436963164. Skipping.\n",
            "Keys 'split' and 'k_split' not found for 436963161. Skipping.\n",
            "Keys 'split' and 'k_split' not found for 436963156. Skipping.\n",
            "Keys 'split' and 'k_split' not found for 436963154. Skipping.\n",
            "Keys 'split' and 'k_split' not found for 436963153. Skipping.\n",
            "Keys 'split' and 'k_split' not found for 436963152. Skipping.\n",
            "Keys 'split' and 'k_split' not found for 436963150. Skipping.\n",
            "Keys 'split' and 'k_split' not found for 436963140. Skipping.\n",
            "Keys 'split' and 'k_split' not found for 436963111. Skipping.\n",
            "Keys 'split' and 'k_split' not found for 436963072. Skipping.\n",
            "Keys 'split' and 'k_split' not found for 436963087. Skipping.\n",
            "Keys 'split' and 'k_split' not found for 436963071. Skipping.\n",
            "Keys 'split' and 'k_split' not found for 436963055. Skipping.\n",
            "Keys 'split' and 'k_split' not found for 436963070. Skipping.\n",
            "Keys 'split' and 'k_split' not found for 436963063. Skipping.\n",
            "Keys 'split' and 'k_split' not found for 436963054. Skipping.\n",
            "Keys 'split' and 'k_split' not found for 436963034. Skipping.\n",
            "Keys 'split' and 'k_split' not found for 436963814. Skipping.\n",
            "Keys 'split' and 'k_split' not found for 436963813. Skipping.\n",
            "Keys 'split' and 'k_split' not found for 436963809. Skipping.\n",
            "Keys 'split' and 'k_split' not found for 436963737. Skipping.\n",
            "Keys 'split' and 'k_split' not found for 436963727. Skipping.\n",
            "Keys 'split' and 'k_split' not found for 436963666. Skipping.\n",
            "Keys 'split' and 'k_split' not found for 436963664. Skipping.\n",
            "Keys 'split' and 'k_split' not found for 436963641. Skipping.\n",
            "Keys 'split' and 'k_split' not found for 436963625. Skipping.\n",
            "Keys 'split' and 'k_split' not found for 436963628. Skipping.\n",
            "Keys 'split' and 'k_split' not found for 436963611. Skipping.\n",
            "Keys 'split' and 'k_split' not found for 436963605. Skipping.\n",
            "Keys 'split' and 'k_split' not found for 436963601. Skipping.\n",
            "Keys 'split' and 'k_split' not found for 436963536. Skipping.\n",
            "Keys 'split' and 'k_split' not found for 436963507. Skipping.\n",
            "Keys 'split' and 'k_split' not found for 436963508. Skipping.\n",
            "Keys 'split' and 'k_split' not found for 436963504. Skipping.\n",
            "Keys 'split' and 'k_split' not found for 436963506. Skipping.\n",
            "Keys 'split' and 'k_split' not found for 436963499. Skipping.\n",
            "Keys 'split' and 'k_split' not found for 436963495. Skipping.\n",
            "Keys 'split' and 'k_split' not found for 436963489. Skipping.\n",
            "Keys 'split' and 'k_split' not found for 436963488. Skipping.\n",
            "Keys 'split' and 'k_split' not found for 436963456. Skipping.\n",
            "Keys 'split' and 'k_split' not found for 436963459. Skipping.\n",
            "Keys 'split' and 'k_split' not found for 436963422. Skipping.\n",
            "Keys 'split' and 'k_split' not found for 436963421. Skipping.\n",
            "Keys 'split' and 'k_split' not found for 436963412. Skipping.\n",
            "Keys 'split' and 'k_split' not found for 436963408. Skipping.\n",
            "Keys 'split' and 'k_split' not found for 436963328. Skipping.\n",
            "Keys 'split' and 'k_split' not found for 436963260. Skipping.\n",
            "Keys 'split' and 'k_split' not found for 436963258. Skipping.\n",
            "Keys 'split' and 'k_split' not found for 436963255. Skipping.\n",
            "Keys 'split' and 'k_split' not found for 436963254. Skipping.\n",
            "Keys 'split' and 'k_split' not found for 436963253. Skipping.\n",
            "Keys 'split' and 'k_split' not found for 436963252. Skipping.\n",
            "Keys 'split' and 'k_split' not found for 436963251. Skipping.\n",
            "Keys 'split' and 'k_split' not found for 436963249. Skipping.\n",
            "Keys 'split' and 'k_split' not found for 436963242. Skipping.\n",
            "Keys 'split' and 'k_split' not found for 436963240. Skipping.\n",
            "Keys 'split' and 'k_split' not found for 436963239. Skipping.\n",
            "Keys 'split' and 'k_split' not found for 436963235. Skipping.\n",
            "Keys 'split' and 'k_split' not found for 436963237. Skipping.\n",
            "Keys 'split' and 'k_split' not found for 436964412. Skipping.\n",
            "Keys 'split' and 'k_split' not found for 436964411. Skipping.\n",
            "Keys 'split' and 'k_split' not found for 436964401. Skipping.\n",
            "Keys 'split' and 'k_split' not found for 436964387. Skipping.\n",
            "Keys 'split' and 'k_split' not found for 436964379. Skipping.\n",
            "Keys 'split' and 'k_split' not found for 436964370. Skipping.\n",
            "Keys 'split' and 'k_split' not found for 436964275. Skipping.\n",
            "Keys 'split' and 'k_split' not found for 436964250. Skipping.\n",
            "Keys 'split' and 'k_split' not found for 436964241. Skipping.\n",
            "Keys 'split' and 'k_split' not found for 436964236. Skipping.\n",
            "Keys 'split' and 'k_split' not found for 436964235. Skipping.\n",
            "Keys 'split' and 'k_split' not found for 436964222. Skipping.\n",
            "Keys 'split' and 'k_split' not found for 436964181. Skipping.\n",
            "Keys 'split' and 'k_split' not found for 436964148. Skipping.\n",
            "Keys 'split' and 'k_split' not found for 436964173. Skipping.\n",
            "Keys 'split' and 'k_split' not found for 436964130. Skipping.\n",
            "Keys 'split' and 'k_split' not found for 436964127. Skipping.\n",
            "Keys 'split' and 'k_split' not found for 436964018. Skipping.\n",
            "Keys 'split' and 'k_split' not found for 436963996. Skipping.\n",
            "Keys 'split' and 'k_split' not found for 436963993. Skipping.\n",
            "Keys 'split' and 'k_split' not found for 436963992. Skipping.\n",
            "Keys 'split' and 'k_split' not found for 436963991. Skipping.\n",
            "Keys 'split' and 'k_split' not found for 436963977. Skipping.\n",
            "Keys 'split' and 'k_split' not found for 436963954. Skipping.\n",
            "Keys 'split' and 'k_split' not found for 436963974. Skipping.\n",
            "Keys 'split' and 'k_split' not found for 436963932. Skipping.\n",
            "Keys 'split' and 'k_split' not found for 436963904. Skipping.\n",
            "Keys 'split' and 'k_split' not found for 436963866. Skipping.\n",
            "Keys 'split' and 'k_split' not found for 436963903. Skipping.\n",
            "Keys 'split' and 'k_split' not found for 436963901. Skipping.\n",
            "Keys 'split' and 'k_split' not found for 436963860. Skipping.\n",
            "Keys 'split' and 'k_split' not found for 436964789. Skipping.\n",
            "Keys 'split' and 'k_split' not found for 436964784. Skipping.\n",
            "Keys 'split' and 'k_split' not found for 436964779. Skipping.\n",
            "Keys 'split' and 'k_split' not found for 436964778. Skipping.\n",
            "Keys 'split' and 'k_split' not found for 436964760. Skipping.\n",
            "Keys 'split' and 'k_split' not found for 436964758. Skipping.\n",
            "Keys 'split' and 'k_split' not found for 436964716. Skipping.\n",
            "Keys 'split' and 'k_split' not found for 436964755. Skipping.\n",
            "Keys 'split' and 'k_split' not found for 436964702. Skipping.\n",
            "Keys 'split' and 'k_split' not found for 436964697. Skipping.\n",
            "Keys 'split' and 'k_split' not found for 436964626. Skipping.\n",
            "Keys 'split' and 'k_split' not found for 436964687. Skipping.\n",
            "Keys 'split' and 'k_split' not found for 436964686. Skipping.\n",
            "Keys 'split' and 'k_split' not found for 436964672. Skipping.\n",
            "Keys 'split' and 'k_split' not found for 436964621. Skipping.\n",
            "Keys 'split' and 'k_split' not found for 436964606. Skipping.\n",
            "Keys 'split' and 'k_split' not found for 436964616. Skipping.\n",
            "Keys 'split' and 'k_split' not found for 436964608. Skipping.\n",
            "Keys 'split' and 'k_split' not found for 436964600. Skipping.\n",
            "Keys 'split' and 'k_split' not found for 436964563. Skipping.\n",
            "Keys 'split' and 'k_split' not found for 436965127. Skipping.\n",
            "Keys 'split' and 'k_split' not found for 436965029. Skipping.\n",
            "Keys 'split' and 'k_split' not found for 436965016. Skipping.\n",
            "Keys 'split' and 'k_split' not found for 436965028. Skipping.\n",
            "Keys 'split' and 'k_split' not found for 436964991. Skipping.\n",
            "Keys 'split' and 'k_split' not found for 436964990. Skipping.\n",
            "Keys 'split' and 'k_split' not found for 436964924. Skipping.\n",
            "Keys 'split' and 'k_split' not found for 436964887. Skipping.\n",
            "Keys 'split' and 'k_split' not found for 436964884. Skipping.\n",
            "Keys 'split' and 'k_split' not found for 436964839. Skipping.\n",
            "Keys 'split' and 'k_split' not found for 436964838. Skipping.\n",
            "Keys 'split' and 'k_split' not found for 436964835. Skipping.\n",
            "Keys 'split' and 'k_split' not found for 436964831. Skipping.\n",
            "Keys 'split' and 'k_split' not found for 436964814. Skipping.\n",
            "Keys 'split' and 'k_split' not found for 436964804. Skipping.\n",
            "Keys 'split' and 'k_split' not found for 436964802. Skipping.\n",
            "Keys 'split' and 'k_split' not found for 436964800. Skipping.\n",
            "Keys 'split' and 'k_split' not found for 436964791. Skipping.\n",
            "Keys 'split' and 'k_split' not found for 436965194. Skipping.\n",
            "Keys 'split' and 'k_split' not found for 436965193. Skipping.\n",
            "Keys 'split' and 'k_split' not found for 436965180. Skipping.\n",
            "Keys 'split' and 'k_split' not found for 436965154. Skipping.\n",
            "Keys 'split' and 'k_split' not found for 436965170. Skipping.\n",
            "Keys 'split' and 'k_split' not found for 436965153. Skipping.\n",
            "Keys 'split' and 'k_split' not found for 436965152. Skipping.\n",
            "Keys 'split' and 'k_split' not found for 436965150. Skipping.\n",
            "Keys 'split' and 'k_split' not found for 436965128. Skipping.\n",
            "Keys 'split' and 'k_split' not found for 436965145. Skipping.\n",
            "Keys 'split' and 'k_split' not found for 436965135. Skipping.\n",
            "Keys 'split' and 'k_split' not found for 436965278. Skipping.\n",
            "Keys 'split' and 'k_split' not found for 436968779. Skipping.\n",
            "Keys 'split' and 'k_split' not found for 436968775. Skipping.\n",
            "Keys 'split' and 'k_split' not found for 436968784. Skipping.\n",
            "Keys 'split' and 'k_split' not found for 436968798. Skipping.\n",
            "Keys 'split' and 'k_split' not found for 436968774. Skipping.\n",
            "Keys 'split' and 'k_split' not found for 436968715. Skipping.\n",
            "Keys 'split' and 'k_split' not found for 436968738. Skipping.\n",
            "Keys 'split' and 'k_split' not found for 436968695. Skipping.\n",
            "Keys 'split' and 'k_split' not found for 436968706. Skipping.\n",
            "Keys 'split' and 'k_split' not found for 436968694. Skipping.\n",
            "Keys 'split' and 'k_split' not found for 436965517. Skipping.\n",
            "Keys 'split' and 'k_split' not found for 436965469. Skipping.\n",
            "Keys 'split' and 'k_split' not found for 436968688. Skipping.\n",
            "Keys 'split' and 'k_split' not found for 436965541. Skipping.\n",
            "Keys 'split' and 'k_split' not found for 436965522. Skipping.\n",
            "Keys 'split' and 'k_split' not found for 436965364. Skipping.\n",
            "Keys 'split' and 'k_split' not found for 436965420. Skipping.\n",
            "Keys 'split' and 'k_split' not found for 436965496. Skipping.\n",
            "Keys 'split' and 'k_split' not found for 436965309. Skipping.\n",
            "Keys 'split' and 'k_split' not found for 436965351. Skipping.\n",
            "Keys 'split' and 'k_split' not found for 436965311. Skipping.\n",
            "Keys 'split' and 'k_split' not found for 436965306. Skipping.\n",
            "Keys 'split' and 'k_split' not found for 436965317. Skipping.\n",
            "Keys 'split' and 'k_split' not found for 436965308. Skipping.\n",
            "Keys 'split' and 'k_split' not found for 436965303. Skipping.\n",
            "Keys 'split' and 'k_split' not found for 436965300. Skipping.\n",
            "Keys 'split' and 'k_split' not found for 436965295. Skipping.\n",
            "Keys 'split' and 'k_split' not found for 436965283. Skipping.\n",
            "Keys 'split' and 'k_split' not found for 436965281. Skipping.\n",
            "Keys 'split' and 'k_split' not found for 436965280. Skipping.\n",
            "Keys 'split' and 'k_split' not found for 436969000. Skipping.\n",
            "Keys 'split' and 'k_split' not found for 436968998. Skipping.\n",
            "Keys 'split' and 'k_split' not found for 436968984. Skipping.\n",
            "Keys 'split' and 'k_split' not found for 436968989. Skipping.\n",
            "Keys 'split' and 'k_split' not found for 436968991. Skipping.\n",
            "Keys 'split' and 'k_split' not found for 436968981. Skipping.\n",
            "Keys 'split' and 'k_split' not found for 436968976. Skipping.\n",
            "Keys 'split' and 'k_split' not found for 436968967. Skipping.\n",
            "Keys 'split' and 'k_split' not found for 436968885. Skipping.\n",
            "Keys 'split' and 'k_split' not found for 436968973. Skipping.\n",
            "Keys 'split' and 'k_split' not found for 436968886. Skipping.\n",
            "Keys 'split' and 'k_split' not found for 436968862. Skipping.\n",
            "Keys 'split' and 'k_split' not found for 436968952. Skipping.\n",
            "Keys 'split' and 'k_split' not found for 436968891. Skipping.\n",
            "Keys 'split' and 'k_split' not found for 436968873. Skipping.\n",
            "Keys 'split' and 'k_split' not found for 436969238. Skipping.\n",
            "Keys 'split' and 'k_split' not found for 436969225. Skipping.\n",
            "Keys 'split' and 'k_split' not found for 436969177. Skipping.\n",
            "Keys 'split' and 'k_split' not found for 436969121. Skipping.\n",
            "Keys 'split' and 'k_split' not found for 436969178. Skipping.\n",
            "Keys 'split' and 'k_split' not found for 436969150. Skipping.\n",
            "Keys 'split' and 'k_split' not found for 436969107. Skipping.\n",
            "Keys 'split' and 'k_split' not found for 436969116. Skipping.\n",
            "Keys 'split' and 'k_split' not found for 436969091. Skipping.\n",
            "Keys 'split' and 'k_split' not found for 436969102. Skipping.\n",
            "Keys 'split' and 'k_split' not found for 436969034. Skipping.\n",
            "Keys 'split' and 'k_split' not found for 436969093. Skipping.\n",
            "Keys 'split' and 'k_split' not found for 436969020. Skipping.\n",
            "Keys 'split' and 'k_split' not found for 436969006. Skipping.\n",
            "Keys 'split' and 'k_split' not found for 436969042. Skipping.\n",
            "Keys 'split' and 'k_split' not found for 436969005. Skipping.\n",
            "Keys 'split' and 'k_split' not found for 436969076. Skipping.\n",
            "Keys 'split' and 'k_split' not found for 436968999. Skipping.\n",
            "Keys 'split' and 'k_split' not found for 436965265. Skipping.\n",
            "Keys 'split' and 'k_split' not found for 436965250. Skipping.\n",
            "Keys 'split' and 'k_split' not found for 436965233. Skipping.\n",
            "Keys 'split' and 'k_split' not found for 436965200. Skipping.\n",
            "Keys 'split' and 'k_split' not found for 436965196. Skipping.\n",
            "Keys 'split' and 'k_split' not found for 436962493. Skipping.\n",
            "Keys 'split' and 'k_split' not found for 436962492. Skipping.\n",
            "Keys 'split' and 'k_split' not found for 436962433 (1). Skipping.\n",
            "Keys 'split' and 'k_split' not found for 436962397 (1). Skipping.\n"
          ]
        }
      ]
    },
    {
      "cell_type": "code",
      "source": [
        "weights_path = '/content/yolov8n.pt'\n",
        "model = YOLO(weights_path, task='detect')"
      ],
      "metadata": {
        "id": "S_ip0_KQKUdR"
      },
      "execution_count": 127,
      "outputs": []
    },
    {
      "cell_type": "code",
      "source": [
        "results = {}\n",
        "\n",
        "# Define your additional arguments here\n",
        "batch = 16\n",
        "project = 'kfold_demo'\n",
        "epochs = 2\n",
        "\n",
        "for k in range(ksplit):\n",
        "    dataset_yaml = ds_yamls[k]\n",
        "    model.train(data=dataset_yaml,epochs=epochs, batch=batch, project=project)  # include any train arguments\n",
        "    results[k] = model.metrics  # save output metrics for further analysis"
      ],
      "metadata": {
        "colab": {
          "base_uri": "https://localhost:8080/"
        },
        "id": "wxUVL-k4KVF1",
        "outputId": "e66799be-7105-4ad6-e0b7-7fbeeba50fcb"
      },
      "execution_count": 129,
      "outputs": [
        {
          "output_type": "stream",
          "name": "stdout",
          "text": [
            "Ultralytics YOLOv8.0.236 🚀 Python-3.10.12 torch-2.1.0+cu121 CPU (Intel Xeon 2.20GHz)\n",
            "\u001b[34m\u001b[1mengine/trainer: \u001b[0mtask=detect, mode=train, model=/content/yolov8n.pt, data=/content/drive/MyDrive/data/2024-01-07_3-Fold_Cross-val/split_1/split_1_dataset.yaml, epochs=2, time=None, patience=50, batch=16, imgsz=640, save=True, save_period=-1, cache=False, device=None, workers=0, project=kfold_demo, name=train53, exist_ok=False, pretrained=True, optimizer=auto, verbose=True, seed=0, deterministic=True, single_cls=False, rect=False, cos_lr=False, close_mosaic=10, resume=False, amp=True, fraction=1.0, profile=False, freeze=None, multi_scale=False, overlap_mask=True, mask_ratio=4, dropout=0.0, val=True, split=val, save_json=False, save_hybrid=False, conf=None, iou=0.7, max_det=300, half=False, dnn=False, plots=True, source=None, vid_stride=1, stream_buffer=False, visualize=False, augment=False, agnostic_nms=False, classes=None, retina_masks=False, embed=None, show=False, save_frames=False, save_txt=False, save_conf=False, save_crop=False, show_labels=True, show_conf=True, show_boxes=True, line_width=None, format=torchscript, keras=False, optimize=False, int8=False, dynamic=False, simplify=False, opset=None, workspace=4, nms=False, lr0=0.01, lrf=0.01, momentum=0.937, weight_decay=0.0005, warmup_epochs=3.0, warmup_momentum=0.8, warmup_bias_lr=0.0, box=7.5, cls=0.5, dfl=1.5, pose=12.0, kobj=1.0, label_smoothing=0.0, nbs=64, hsv_h=0.015, hsv_s=0.7, hsv_v=0.4, degrees=0.0, translate=0.1, scale=0.5, shear=0.0, perspective=0.0, flipud=0.0, fliplr=0.5, mosaic=1.0, mixup=0.0, copy_paste=0.0, auto_augment=randaugment, erasing=0.4, crop_fraction=1.0, cfg=None, tracker=botsort.yaml, save_dir=kfold_demo/train53\n",
            "\n",
            "                   from  n    params  module                                       arguments                     \n",
            "  0                  -1  1       464  ultralytics.nn.modules.conv.Conv             [3, 16, 3, 2]                 \n",
            "  1                  -1  1      4672  ultralytics.nn.modules.conv.Conv             [16, 32, 3, 2]                \n",
            "  2                  -1  1      7360  ultralytics.nn.modules.block.C2f             [32, 32, 1, True]             \n",
            "  3                  -1  1     18560  ultralytics.nn.modules.conv.Conv             [32, 64, 3, 2]                \n",
            "  4                  -1  2     49664  ultralytics.nn.modules.block.C2f             [64, 64, 2, True]             \n",
            "  5                  -1  1     73984  ultralytics.nn.modules.conv.Conv             [64, 128, 3, 2]               \n",
            "  6                  -1  2    197632  ultralytics.nn.modules.block.C2f             [128, 128, 2, True]           \n",
            "  7                  -1  1    295424  ultralytics.nn.modules.conv.Conv             [128, 256, 3, 2]              \n",
            "  8                  -1  1    460288  ultralytics.nn.modules.block.C2f             [256, 256, 1, True]           \n",
            "  9                  -1  1    164608  ultralytics.nn.modules.block.SPPF            [256, 256, 5]                 \n",
            " 10                  -1  1         0  torch.nn.modules.upsampling.Upsample         [None, 2, 'nearest']          \n",
            " 11             [-1, 6]  1         0  ultralytics.nn.modules.conv.Concat           [1]                           \n",
            " 12                  -1  1    148224  ultralytics.nn.modules.block.C2f             [384, 128, 1]                 \n",
            " 13                  -1  1         0  torch.nn.modules.upsampling.Upsample         [None, 2, 'nearest']          \n",
            " 14             [-1, 4]  1         0  ultralytics.nn.modules.conv.Concat           [1]                           \n",
            " 15                  -1  1     37248  ultralytics.nn.modules.block.C2f             [192, 64, 1]                  \n",
            " 16                  -1  1     36992  ultralytics.nn.modules.conv.Conv             [64, 64, 3, 2]                \n",
            " 17            [-1, 12]  1         0  ultralytics.nn.modules.conv.Concat           [1]                           \n",
            " 18                  -1  1    123648  ultralytics.nn.modules.block.C2f             [192, 128, 1]                 \n",
            " 19                  -1  1    147712  ultralytics.nn.modules.conv.Conv             [128, 128, 3, 2]              \n",
            " 20             [-1, 9]  1         0  ultralytics.nn.modules.conv.Concat           [1]                           \n",
            " 21                  -1  1    493056  ultralytics.nn.modules.block.C2f             [384, 256, 1]                 \n",
            " 22        [15, 18, 21]  1    752482  ultralytics.nn.modules.head.Detect           [6, [64, 128, 256]]           \n",
            "Model summary: 225 layers, 3012018 parameters, 3012002 gradients, 8.2 GFLOPs\n",
            "\n",
            "Transferred 355/355 items from pretrained weights\n",
            "\u001b[34m\u001b[1mTensorBoard: \u001b[0mStart with 'tensorboard --logdir kfold_demo/train53', view at http://localhost:6006/\n",
            "Freezing layer 'model.22.dfl.conv.weight'\n"
          ]
        },
        {
          "output_type": "stream",
          "name": "stderr",
          "text": [
            "\u001b[34m\u001b[1mtrain: \u001b[0mScanning /content/drive/MyDrive/data/2024-01-07_3-Fold_Cross-val/split_1/train/labels.cache... 237 images, 38 backgrounds, 0 corrupt: 100%|██████████| 275/275 [00:00<?, ?it/s]"
          ]
        },
        {
          "output_type": "stream",
          "name": "stdout",
          "text": [
            "\u001b[34m\u001b[1malbumentations: \u001b[0mBlur(p=0.01, blur_limit=(3, 7)), MedianBlur(p=0.01, blur_limit=(3, 7)), ToGray(p=0.01), CLAHE(p=0.01, clip_limit=(1, 4.0), tile_grid_size=(8, 8))\n"
          ]
        },
        {
          "output_type": "stream",
          "name": "stderr",
          "text": [
            "\n",
            "\u001b[34m\u001b[1mval: \u001b[0mScanning /content/drive/MyDrive/data/2024-01-07_3-Fold_Cross-val/split_1/val/labels.cache... 103 images, 38 backgrounds, 0 corrupt: 100%|██████████| 141/141 [00:00<?, ?it/s]\n"
          ]
        },
        {
          "output_type": "stream",
          "name": "stdout",
          "text": [
            "Plotting labels to kfold_demo/train53/labels.jpg... \n",
            "\u001b[34m\u001b[1moptimizer:\u001b[0m 'optimizer=auto' found, ignoring 'lr0=0.01' and 'momentum=0.937' and determining best 'optimizer', 'lr0' and 'momentum' automatically... \n",
            "\u001b[34m\u001b[1moptimizer:\u001b[0m AdamW(lr=0.001, momentum=0.9) with parameter groups 57 weight(decay=0.0), 64 weight(decay=0.0005), 63 bias(decay=0.0)\n",
            "2 epochs...\n",
            "\n",
            "      Epoch    GPU_mem   box_loss   cls_loss   dfl_loss  Instances       Size\n"
          ]
        },
        {
          "output_type": "stream",
          "name": "stderr",
          "text": [
            "        1/2         0G      1.735      1.976       1.28         88        640: 100%|██████████| 18/18 [05:11<00:00, 17.31s/it]\n",
            "                 Class     Images  Instances      Box(P          R      mAP50  mAP50-95): 100%|██████████| 5/5 [00:43<00:00,  8.66s/it]"
          ]
        },
        {
          "output_type": "stream",
          "name": "stdout",
          "text": [
            "                   all        141       3109      0.461      0.153      0.105     0.0541\n"
          ]
        },
        {
          "output_type": "stream",
          "name": "stderr",
          "text": [
            "\n"
          ]
        },
        {
          "output_type": "stream",
          "name": "stdout",
          "text": [
            "\n",
            "      Epoch    GPU_mem   box_loss   cls_loss   dfl_loss  Instances       Size\n"
          ]
        },
        {
          "output_type": "stream",
          "name": "stderr",
          "text": [
            "        2/2         0G      1.695      1.863      1.266         98        640: 100%|██████████| 18/18 [04:50<00:00, 16.12s/it]\n",
            "                 Class     Images  Instances      Box(P          R      mAP50  mAP50-95): 100%|██████████| 5/5 [00:44<00:00,  8.89s/it]"
          ]
        },
        {
          "output_type": "stream",
          "name": "stdout",
          "text": [
            "                   all        141       3109      0.497      0.178      0.118     0.0583\n"
          ]
        },
        {
          "output_type": "stream",
          "name": "stderr",
          "text": [
            "\n"
          ]
        },
        {
          "output_type": "stream",
          "name": "stdout",
          "text": [
            "\n",
            "2 epochs completed in 0.193 hours.\n",
            "Optimizer stripped from kfold_demo/train53/weights/last.pt, 6.2MB\n",
            "Optimizer stripped from kfold_demo/train53/weights/best.pt, 6.2MB\n",
            "\n",
            "Validating kfold_demo/train53/weights/best.pt...\n",
            "Ultralytics YOLOv8.0.236 🚀 Python-3.10.12 torch-2.1.0+cu121 CPU (Intel Xeon 2.20GHz)\n",
            "Model summary (fused): 168 layers, 3006818 parameters, 0 gradients, 8.1 GFLOPs\n"
          ]
        },
        {
          "output_type": "stream",
          "name": "stderr",
          "text": [
            "                 Class     Images  Instances      Box(P          R      mAP50  mAP50-95): 100%|██████████| 5/5 [00:40<00:00,  8.06s/it]\n"
          ]
        },
        {
          "output_type": "stream",
          "name": "stdout",
          "text": [
            "                   all        141       3109      0.496      0.178      0.118     0.0583\n",
            "                  leaf        141       1594      0.356      0.642      0.414      0.237\n",
            "                flower        141        588      0.196      0.167     0.0949     0.0348\n",
            "                 fruit        141        241      0.166     0.0373     0.0489     0.0229\n",
            "                  seed        141          2          1          0          0          0\n",
            "                  stem        141        675      0.259      0.224       0.15     0.0553\n",
            "                  root        141          9          1          0          0          0\n",
            "Speed: 2.3ms preprocess, 196.2ms inference, 0.0ms loss, 21.4ms postprocess per image\n",
            "Results saved to \u001b[1mkfold_demo/train53\u001b[0m\n",
            "New https://pypi.org/project/ultralytics/8.0.237 available 😃 Update with 'pip install -U ultralytics'\n",
            "Ultralytics YOLOv8.0.236 🚀 Python-3.10.12 torch-2.1.0+cu121 CPU (Intel Xeon 2.20GHz)\n",
            "\u001b[34m\u001b[1mengine/trainer: \u001b[0mtask=detect, mode=train, model=/content/yolov8n.pt, data=/content/drive/MyDrive/data/2024-01-07_3-Fold_Cross-val/split_2/split_2_dataset.yaml, epochs=2, time=None, patience=50, batch=16, imgsz=640, save=True, save_period=-1, cache=False, device=None, workers=0, project=kfold_demo, name=train532, exist_ok=False, pretrained=True, optimizer=auto, verbose=True, seed=0, deterministic=True, single_cls=False, rect=False, cos_lr=False, close_mosaic=10, resume=False, amp=True, fraction=1.0, profile=False, freeze=None, multi_scale=False, overlap_mask=True, mask_ratio=4, dropout=0.0, val=True, split=val, save_json=False, save_hybrid=False, conf=None, iou=0.7, max_det=300, half=False, dnn=False, plots=True, source=None, vid_stride=1, stream_buffer=False, visualize=False, augment=False, agnostic_nms=False, classes=None, retina_masks=False, embed=None, show=False, save_frames=False, save_txt=False, save_conf=False, save_crop=False, show_labels=True, show_conf=True, show_boxes=True, line_width=None, format=torchscript, keras=False, optimize=False, int8=False, dynamic=False, simplify=False, opset=None, workspace=4, nms=False, lr0=0.01, lrf=0.01, momentum=0.937, weight_decay=0.0005, warmup_epochs=3.0, warmup_momentum=0.8, warmup_bias_lr=0.0, box=7.5, cls=0.5, dfl=1.5, pose=12.0, kobj=1.0, label_smoothing=0.0, nbs=64, hsv_h=0.015, hsv_s=0.7, hsv_v=0.4, degrees=0.0, translate=0.1, scale=0.5, shear=0.0, perspective=0.0, flipud=0.0, fliplr=0.5, mosaic=1.0, mixup=0.0, copy_paste=0.0, auto_augment=randaugment, erasing=0.4, crop_fraction=1.0, cfg=None, tracker=botsort.yaml, save_dir=kfold_demo/train532\n",
            "\n",
            "                   from  n    params  module                                       arguments                     \n",
            "  0                  -1  1       464  ultralytics.nn.modules.conv.Conv             [3, 16, 3, 2]                 \n",
            "  1                  -1  1      4672  ultralytics.nn.modules.conv.Conv             [16, 32, 3, 2]                \n",
            "  2                  -1  1      7360  ultralytics.nn.modules.block.C2f             [32, 32, 1, True]             \n",
            "  3                  -1  1     18560  ultralytics.nn.modules.conv.Conv             [32, 64, 3, 2]                \n",
            "  4                  -1  2     49664  ultralytics.nn.modules.block.C2f             [64, 64, 2, True]             \n",
            "  5                  -1  1     73984  ultralytics.nn.modules.conv.Conv             [64, 128, 3, 2]               \n",
            "  6                  -1  2    197632  ultralytics.nn.modules.block.C2f             [128, 128, 2, True]           \n",
            "  7                  -1  1    295424  ultralytics.nn.modules.conv.Conv             [128, 256, 3, 2]              \n",
            "  8                  -1  1    460288  ultralytics.nn.modules.block.C2f             [256, 256, 1, True]           \n",
            "  9                  -1  1    164608  ultralytics.nn.modules.block.SPPF            [256, 256, 5]                 \n",
            " 10                  -1  1         0  torch.nn.modules.upsampling.Upsample         [None, 2, 'nearest']          \n",
            " 11             [-1, 6]  1         0  ultralytics.nn.modules.conv.Concat           [1]                           \n",
            " 12                  -1  1    148224  ultralytics.nn.modules.block.C2f             [384, 128, 1]                 \n",
            " 13                  -1  1         0  torch.nn.modules.upsampling.Upsample         [None, 2, 'nearest']          \n",
            " 14             [-1, 4]  1         0  ultralytics.nn.modules.conv.Concat           [1]                           \n",
            " 15                  -1  1     37248  ultralytics.nn.modules.block.C2f             [192, 64, 1]                  \n",
            " 16                  -1  1     36992  ultralytics.nn.modules.conv.Conv             [64, 64, 3, 2]                \n",
            " 17            [-1, 12]  1         0  ultralytics.nn.modules.conv.Concat           [1]                           \n",
            " 18                  -1  1    123648  ultralytics.nn.modules.block.C2f             [192, 128, 1]                 \n",
            " 19                  -1  1    147712  ultralytics.nn.modules.conv.Conv             [128, 128, 3, 2]              \n",
            " 20             [-1, 9]  1         0  ultralytics.nn.modules.conv.Concat           [1]                           \n",
            " 21                  -1  1    493056  ultralytics.nn.modules.block.C2f             [384, 256, 1]                 \n",
            " 22        [15, 18, 21]  1    752482  ultralytics.nn.modules.head.Detect           [6, [64, 128, 256]]           \n",
            "Model summary: 225 layers, 3012018 parameters, 3012002 gradients, 8.2 GFLOPs\n",
            "\n",
            "Transferred 355/355 items from pretrained weights\n",
            "\u001b[34m\u001b[1mTensorBoard: \u001b[0mStart with 'tensorboard --logdir kfold_demo/train532', view at http://localhost:6006/\n",
            "Freezing layer 'model.22.dfl.conv.weight'\n"
          ]
        },
        {
          "output_type": "stream",
          "name": "stderr",
          "text": [
            "\u001b[34m\u001b[1mtrain: \u001b[0mScanning /content/drive/MyDrive/data/2024-01-07_3-Fold_Cross-val/split_2/train/labels.cache... 247 images, 38 backgrounds, 0 corrupt: 100%|██████████| 285/285 [00:00<?, ?it/s]"
          ]
        },
        {
          "output_type": "stream",
          "name": "stdout",
          "text": [
            "\u001b[34m\u001b[1malbumentations: \u001b[0mBlur(p=0.01, blur_limit=(3, 7)), MedianBlur(p=0.01, blur_limit=(3, 7)), ToGray(p=0.01), CLAHE(p=0.01, clip_limit=(1, 4.0), tile_grid_size=(8, 8))\n"
          ]
        },
        {
          "output_type": "stream",
          "name": "stderr",
          "text": [
            "\n",
            "\u001b[34m\u001b[1mval: \u001b[0mScanning /content/drive/MyDrive/data/2024-01-07_3-Fold_Cross-val/split_2/val/labels.cache... 94 images, 37 backgrounds, 0 corrupt: 100%|██████████| 131/131 [00:00<?, ?it/s]\n"
          ]
        },
        {
          "output_type": "stream",
          "name": "stdout",
          "text": [
            "Plotting labels to kfold_demo/train532/labels.jpg... \n",
            "\u001b[34m\u001b[1moptimizer:\u001b[0m 'optimizer=auto' found, ignoring 'lr0=0.01' and 'momentum=0.937' and determining best 'optimizer', 'lr0' and 'momentum' automatically... \n",
            "\u001b[34m\u001b[1moptimizer:\u001b[0m AdamW(lr=0.001, momentum=0.9) with parameter groups 57 weight(decay=0.0), 64 weight(decay=0.0005), 63 bias(decay=0.0)\n",
            "2 epochs...\n",
            "\n",
            "      Epoch    GPU_mem   box_loss   cls_loss   dfl_loss  Instances       Size\n"
          ]
        },
        {
          "output_type": "stream",
          "name": "stderr",
          "text": [
            "        1/2         0G      1.673      1.818      1.253        448        640: 100%|██████████| 18/18 [05:25<00:00, 18.06s/it]\n",
            "                 Class     Images  Instances      Box(P          R      mAP50  mAP50-95): 100%|██████████| 5/5 [00:40<00:00,  8.18s/it]"
          ]
        },
        {
          "output_type": "stream",
          "name": "stdout",
          "text": [
            "                   all        131       2645      0.513      0.195      0.131     0.0621\n"
          ]
        },
        {
          "output_type": "stream",
          "name": "stderr",
          "text": [
            "\n"
          ]
        },
        {
          "output_type": "stream",
          "name": "stdout",
          "text": [
            "\n",
            "      Epoch    GPU_mem   box_loss   cls_loss   dfl_loss  Instances       Size\n"
          ]
        },
        {
          "output_type": "stream",
          "name": "stderr",
          "text": [
            "        2/2         0G      1.709      1.731      1.257        409        640: 100%|██████████| 18/18 [05:05<00:00, 16.97s/it]\n",
            "                 Class     Images  Instances      Box(P          R      mAP50  mAP50-95): 100%|██████████| 5/5 [00:40<00:00,  8.03s/it]"
          ]
        },
        {
          "output_type": "stream",
          "name": "stdout",
          "text": [
            "                   all        131       2645      0.506       0.21      0.138     0.0689\n"
          ]
        },
        {
          "output_type": "stream",
          "name": "stderr",
          "text": [
            "\n"
          ]
        },
        {
          "output_type": "stream",
          "name": "stdout",
          "text": [
            "\n",
            "2 epochs completed in 0.199 hours.\n",
            "Optimizer stripped from kfold_demo/train532/weights/last.pt, 6.2MB\n",
            "Optimizer stripped from kfold_demo/train532/weights/best.pt, 6.2MB\n",
            "\n",
            "Validating kfold_demo/train532/weights/best.pt...\n",
            "Ultralytics YOLOv8.0.236 🚀 Python-3.10.12 torch-2.1.0+cu121 CPU (Intel Xeon 2.20GHz)\n",
            "Model summary (fused): 168 layers, 3006818 parameters, 0 gradients, 8.1 GFLOPs\n"
          ]
        },
        {
          "output_type": "stream",
          "name": "stderr",
          "text": [
            "                 Class     Images  Instances      Box(P          R      mAP50  mAP50-95): 100%|██████████| 5/5 [00:41<00:00,  8.27s/it]\n"
          ]
        },
        {
          "output_type": "stream",
          "name": "stdout",
          "text": [
            "                   all        131       2645      0.507       0.21      0.138     0.0688\n",
            "                  leaf        131       1330      0.397      0.664      0.447      0.267\n",
            "                flower        131        584      0.226      0.111     0.0864     0.0303\n",
            "                 fruit        131        167      0.152      0.138     0.0901     0.0393\n",
            "                  seed        131          7          1          0          0          0\n",
            "                  stem        131        544      0.266      0.347        0.2     0.0754\n",
            "                  root        131         13          1          0    0.00228    0.00105\n",
            "Speed: 3.8ms preprocess, 222.0ms inference, 0.0ms loss, 21.6ms postprocess per image\n",
            "Results saved to \u001b[1mkfold_demo/train532\u001b[0m\n",
            "New https://pypi.org/project/ultralytics/8.0.237 available 😃 Update with 'pip install -U ultralytics'\n",
            "Ultralytics YOLOv8.0.236 🚀 Python-3.10.12 torch-2.1.0+cu121 CPU (Intel Xeon 2.20GHz)\n",
            "\u001b[34m\u001b[1mengine/trainer: \u001b[0mtask=detect, mode=train, model=/content/yolov8n.pt, data=/content/drive/MyDrive/data/2024-01-07_3-Fold_Cross-val/split_3/split_3_dataset.yaml, epochs=2, time=None, patience=50, batch=16, imgsz=640, save=True, save_period=-1, cache=False, device=None, workers=0, project=kfold_demo, name=train5322, exist_ok=False, pretrained=True, optimizer=auto, verbose=True, seed=0, deterministic=True, single_cls=False, rect=False, cos_lr=False, close_mosaic=10, resume=False, amp=True, fraction=1.0, profile=False, freeze=None, multi_scale=False, overlap_mask=True, mask_ratio=4, dropout=0.0, val=True, split=val, save_json=False, save_hybrid=False, conf=None, iou=0.7, max_det=300, half=False, dnn=False, plots=True, source=None, vid_stride=1, stream_buffer=False, visualize=False, augment=False, agnostic_nms=False, classes=None, retina_masks=False, embed=None, show=False, save_frames=False, save_txt=False, save_conf=False, save_crop=False, show_labels=True, show_conf=True, show_boxes=True, line_width=None, format=torchscript, keras=False, optimize=False, int8=False, dynamic=False, simplify=False, opset=None, workspace=4, nms=False, lr0=0.01, lrf=0.01, momentum=0.937, weight_decay=0.0005, warmup_epochs=3.0, warmup_momentum=0.8, warmup_bias_lr=0.0, box=7.5, cls=0.5, dfl=1.5, pose=12.0, kobj=1.0, label_smoothing=0.0, nbs=64, hsv_h=0.015, hsv_s=0.7, hsv_v=0.4, degrees=0.0, translate=0.1, scale=0.5, shear=0.0, perspective=0.0, flipud=0.0, fliplr=0.5, mosaic=1.0, mixup=0.0, copy_paste=0.0, auto_augment=randaugment, erasing=0.4, crop_fraction=1.0, cfg=None, tracker=botsort.yaml, save_dir=kfold_demo/train5322\n",
            "\n",
            "                   from  n    params  module                                       arguments                     \n",
            "  0                  -1  1       464  ultralytics.nn.modules.conv.Conv             [3, 16, 3, 2]                 \n",
            "  1                  -1  1      4672  ultralytics.nn.modules.conv.Conv             [16, 32, 3, 2]                \n",
            "  2                  -1  1      7360  ultralytics.nn.modules.block.C2f             [32, 32, 1, True]             \n",
            "  3                  -1  1     18560  ultralytics.nn.modules.conv.Conv             [32, 64, 3, 2]                \n",
            "  4                  -1  2     49664  ultralytics.nn.modules.block.C2f             [64, 64, 2, True]             \n",
            "  5                  -1  1     73984  ultralytics.nn.modules.conv.Conv             [64, 128, 3, 2]               \n",
            "  6                  -1  2    197632  ultralytics.nn.modules.block.C2f             [128, 128, 2, True]           \n",
            "  7                  -1  1    295424  ultralytics.nn.modules.conv.Conv             [128, 256, 3, 2]              \n",
            "  8                  -1  1    460288  ultralytics.nn.modules.block.C2f             [256, 256, 1, True]           \n",
            "  9                  -1  1    164608  ultralytics.nn.modules.block.SPPF            [256, 256, 5]                 \n",
            " 10                  -1  1         0  torch.nn.modules.upsampling.Upsample         [None, 2, 'nearest']          \n",
            " 11             [-1, 6]  1         0  ultralytics.nn.modules.conv.Concat           [1]                           \n",
            " 12                  -1  1    148224  ultralytics.nn.modules.block.C2f             [384, 128, 1]                 \n",
            " 13                  -1  1         0  torch.nn.modules.upsampling.Upsample         [None, 2, 'nearest']          \n",
            " 14             [-1, 4]  1         0  ultralytics.nn.modules.conv.Concat           [1]                           \n",
            " 15                  -1  1     37248  ultralytics.nn.modules.block.C2f             [192, 64, 1]                  \n",
            " 16                  -1  1     36992  ultralytics.nn.modules.conv.Conv             [64, 64, 3, 2]                \n",
            " 17            [-1, 12]  1         0  ultralytics.nn.modules.conv.Concat           [1]                           \n",
            " 18                  -1  1    123648  ultralytics.nn.modules.block.C2f             [192, 128, 1]                 \n",
            " 19                  -1  1    147712  ultralytics.nn.modules.conv.Conv             [128, 128, 3, 2]              \n",
            " 20             [-1, 9]  1         0  ultralytics.nn.modules.conv.Concat           [1]                           \n",
            " 21                  -1  1    493056  ultralytics.nn.modules.block.C2f             [384, 256, 1]                 \n",
            " 22        [15, 18, 21]  1    752482  ultralytics.nn.modules.head.Detect           [6, [64, 128, 256]]           \n",
            "Model summary: 225 layers, 3012018 parameters, 3012002 gradients, 8.2 GFLOPs\n",
            "\n",
            "Transferred 355/355 items from pretrained weights\n",
            "\u001b[34m\u001b[1mTensorBoard: \u001b[0mStart with 'tensorboard --logdir kfold_demo/train5322', view at http://localhost:6006/\n",
            "Freezing layer 'model.22.dfl.conv.weight'\n"
          ]
        },
        {
          "output_type": "stream",
          "name": "stderr",
          "text": [
            "\u001b[34m\u001b[1mtrain: \u001b[0mScanning /content/drive/MyDrive/data/2024-01-07_3-Fold_Cross-val/split_3/train/labels.cache... 233 images, 39 backgrounds, 0 corrupt: 100%|██████████| 272/272 [00:00<?, ?it/s]"
          ]
        },
        {
          "output_type": "stream",
          "name": "stdout",
          "text": [
            "\u001b[34m\u001b[1malbumentations: \u001b[0mBlur(p=0.01, blur_limit=(3, 7)), MedianBlur(p=0.01, blur_limit=(3, 7)), ToGray(p=0.01), CLAHE(p=0.01, clip_limit=(1, 4.0), tile_grid_size=(8, 8))\n"
          ]
        },
        {
          "output_type": "stream",
          "name": "stderr",
          "text": [
            "\n",
            "\u001b[34m\u001b[1mval: \u001b[0mScanning /content/drive/MyDrive/data/2024-01-07_3-Fold_Cross-val/split_3/val/labels.cache... 105 images, 39 backgrounds, 0 corrupt: 100%|██████████| 144/144 [00:00<?, ?it/s]\n"
          ]
        },
        {
          "output_type": "stream",
          "name": "stdout",
          "text": [
            "Plotting labels to kfold_demo/train5322/labels.jpg... \n",
            "\u001b[34m\u001b[1moptimizer:\u001b[0m 'optimizer=auto' found, ignoring 'lr0=0.01' and 'momentum=0.937' and determining best 'optimizer', 'lr0' and 'momentum' automatically... \n",
            "\u001b[34m\u001b[1moptimizer:\u001b[0m AdamW(lr=0.001, momentum=0.9) with parameter groups 57 weight(decay=0.0), 64 weight(decay=0.0005), 63 bias(decay=0.0)\n",
            "2 epochs...\n",
            "\n",
            "      Epoch    GPU_mem   box_loss   cls_loss   dfl_loss  Instances       Size\n"
          ]
        },
        {
          "output_type": "stream",
          "name": "stderr",
          "text": [
            "        1/2         0G      1.724      1.718      1.257        587        640: 100%|██████████| 17/17 [05:08<00:00, 18.13s/it]\n",
            "                 Class     Images  Instances      Box(P          R      mAP50  mAP50-95): 100%|██████████| 5/5 [00:44<00:00,  8.81s/it]"
          ]
        },
        {
          "output_type": "stream",
          "name": "stdout",
          "text": [
            "                   all        144       2962        0.5       0.22      0.134     0.0656\n"
          ]
        },
        {
          "output_type": "stream",
          "name": "stderr",
          "text": [
            "\n"
          ]
        },
        {
          "output_type": "stream",
          "name": "stdout",
          "text": [
            "\n",
            "      Epoch    GPU_mem   box_loss   cls_loss   dfl_loss  Instances       Size\n"
          ]
        },
        {
          "output_type": "stream",
          "name": "stderr",
          "text": [
            "        2/2         0G      1.636      1.743      1.254        527        640: 100%|██████████| 17/17 [04:50<00:00, 17.10s/it]\n",
            "                 Class     Images  Instances      Box(P          R      mAP50  mAP50-95): 100%|██████████| 5/5 [00:44<00:00,  8.97s/it]"
          ]
        },
        {
          "output_type": "stream",
          "name": "stdout",
          "text": [
            "                   all        144       2962      0.502      0.239      0.143     0.0703\n"
          ]
        },
        {
          "output_type": "stream",
          "name": "stderr",
          "text": [
            "\n"
          ]
        },
        {
          "output_type": "stream",
          "name": "stdout",
          "text": [
            "\n",
            "2 epochs completed in 0.193 hours.\n",
            "Optimizer stripped from kfold_demo/train5322/weights/last.pt, 6.2MB\n",
            "Optimizer stripped from kfold_demo/train5322/weights/best.pt, 6.2MB\n",
            "\n",
            "Validating kfold_demo/train5322/weights/best.pt...\n",
            "Ultralytics YOLOv8.0.236 🚀 Python-3.10.12 torch-2.1.0+cu121 CPU (Intel Xeon 2.20GHz)\n",
            "Model summary (fused): 168 layers, 3006818 parameters, 0 gradients, 8.1 GFLOPs\n"
          ]
        },
        {
          "output_type": "stream",
          "name": "stderr",
          "text": [
            "                 Class     Images  Instances      Box(P          R      mAP50  mAP50-95): 100%|██████████| 5/5 [00:45<00:00,  9.03s/it]\n"
          ]
        },
        {
          "output_type": "stream",
          "name": "stdout",
          "text": [
            "                   all        144       2962        0.5      0.241      0.143     0.0702\n",
            "                  leaf        144       1525      0.383      0.693      0.462      0.264\n",
            "                flower        144        512      0.121      0.283     0.0848     0.0313\n",
            "                 fruit        144        261      0.277      0.115      0.117     0.0537\n",
            "                  seed        144          1          1          0          0          0\n",
            "                  stem        144        645      0.221      0.353      0.191     0.0713\n",
            "                  root        144         18          1          0    0.00211   0.000844\n",
            "Speed: 3.3ms preprocess, 221.9ms inference, 0.0ms loss, 24.9ms postprocess per image\n",
            "Results saved to \u001b[1mkfold_demo/train5322\u001b[0m\n"
          ]
        }
      ]
    },
    {
      "cell_type": "code",
      "source": [
        "from sklearn.model_selection import ParameterGrid\n",
        "import os\n",
        "\n",
        "# Define hyperparameters to tune\n",
        "learning_rates = [0.0001, 0.001, 0.01]\n",
        "batch_sizes = [32, 64, 128]\n",
        "optimizers = ['adam', 'sgd']\n",
        "epochs = [50, 100, 150]\n",
        "network_architectures = ['yolov8', 'yolov8-tiny']\n",
        "activation_functions = ['relu', 'leaky_relu']\n",
        "loss_functions = ['binary_crossentropy', 'focal_loss']\n",
        "data_augmentation = [True, False]\n",
        "\n",
        "# Set up the search space\n",
        "search_space = {'learning_rate': learning_rates,\n",
        "                'batch_size': batch_sizes,\n",
        "                'optimizer': optimizers,\n",
        "                'epochs': epochs,\n",
        "                'network_architecture': network_architectures,\n",
        "                'activation_function': activation_functions,\n",
        "                'loss_function': loss_functions,\n",
        "                'data_augmentation': data_augmentation}\n",
        "\n",
        "# Create parameter grid\n",
        "parameter_grid = ParameterGrid(search_space)\n",
        "\n",
        "# Train and evaluate the model for each combination of hyperparameters\n",
        "for parameters in parameter_grid:\n",
        "    # Set hyperparameters for the model\n",
        "    learning_rate = parameters['learning_rate']\n",
        "    batch_size = parameters['batch_size']\n",
        "    optimizer = parameters['optimizer']\n",
        "    num_epochs = parameters['epochs']\n",
        "    architecture = parameters['network_architecture']\n",
        "    activation = parameters['activation_function']\n",
        "    loss = parameters['loss_function']\n",
        "    augmentation = parameters['data_augmentation']\n",
        "\n",
        "    # Train and evaluate the model\n",
        "    train_yolo_v8(learning_rate, batch_size, optimizer, num_epochs, architecture, activation, loss, augmentation)\n",
        "    mAP = evaluate_yolo_v8()\n",
        "\n",
        "    # Save the results\n",
        "    result = {'learning_rate': learning_rate,\n",
        "              'batch_size': batch_size,\n",
        "              'optimizer': optimizer,\n",
        "              'num_epochs': num_epochs,\n",
        "               'architecture': architecture,\n",
        "              'activation':activation,\n",
        "              'loss': loss,\n",
        "              'augmentation':augmentation}"
      ],
      "metadata": {
        "id": "EKJ_GyLx5FXf"
      },
      "execution_count": null,
      "outputs": []
    }
  ],
  "metadata": {
    "accelerator": "TPU",
    "colab": {
      "provenance": [],
      "authorship_tag": "ABX9TyNH+WoT4f6SAFxz2o5RKdCV",
      "include_colab_link": true
    },
    "kernelspec": {
      "display_name": "Python 3",
      "name": "python3"
    },
    "language_info": {
      "name": "python"
    }
  },
  "nbformat": 4,
  "nbformat_minor": 0
}